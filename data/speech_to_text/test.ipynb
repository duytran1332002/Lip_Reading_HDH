{
 "cells": [
  {
   "cell_type": "code",
   "execution_count": 3,
   "metadata": {},
   "outputs": [
    {
     "name": "stderr",
     "output_type": "stream",
     "text": [
      "/home/duy1332002/miniconda3/envs/torch/lib/python3.9/site-packages/tqdm/auto.py:22: TqdmWarning: IProgress not found. Please update jupyter and ipywidgets. See https://ipywidgets.readthedocs.io/en/stable/user_install.html\n",
      "  from .autonotebook import tqdm as notebook_tqdm\n",
      "Special tokens have been added in the vocabulary, make sure the associated word embeddings are fine-tuned or trained.\n"
     ]
    }
   ],
   "source": [
    "from speech_to_text import SpeechToText\n",
    "stt = SpeechToText()\n"
   ]
  },
  {
   "cell_type": "code",
   "execution_count": 3,
   "metadata": {},
   "outputs": [
    {
     "name": "stdout",
     "output_type": "stream",
     "text": [
      " cho đến một ngày khi ngồi từ tốn viết xuống một thứ gì đó gọi là\n"
     ]
    }
   ],
   "source": [
    "stt.print_result(\"/home/duy1332002/Desktop/Lip_Reading_THDH/data/speech_to_text/test7.wav\")"
   ]
  },
  {
   "cell_type": "code",
   "execution_count": 4,
   "metadata": {},
   "outputs": [
    {
     "name": "stdout",
     "output_type": "stream",
     "text": [
      "Save result to file:  /home/duy1332002/Desktop/Lip_Reading_THDH/data/speechtotext/test1.txt\n"
     ]
    }
   ],
   "source": [
    "stt.save_result_to_file('/home/duy1332002/Desktop/Lip_Reading_THDH/data/speechtotext/t5.wav', '/home/duy1332002/Desktop/Lip_Reading_THDH/data/speechtotext/test1.txt')"
   ]
  },
  {
   "attachments": {},
   "cell_type": "markdown",
   "metadata": {},
   "source": [
    "# Correction"
   ]
  },
  {
   "cell_type": "code",
   "execution_count": 4,
   "metadata": {},
   "outputs": [],
   "source": [
    "import soundfile as sf\n",
    "import pandas as pd\n",
    "import torch\n",
    "import numpy as np\n",
    "import IPython\n",
    "import pvleopard\n",
    "from underthesea import word_tokenize"
   ]
  },
  {
   "cell_type": "code",
   "execution_count": 22,
   "metadata": {},
   "outputs": [],
   "source": [
    "def check_alignment(audio_path, alignment_path, save_audio=False, path_save_audio=None):\n",
    "    '''\n",
    "    check the result of alignment can be predict by speech to text or not\n",
    "    parameter:\n",
    "        audio_path: str - path audio\n",
    "        alignment_path: str - path csv\n",
    "        save_audio: bool - save audio or not\n",
    "        path_save_audio: str - path save audio, if save_audio is True, you should give the path\n",
    "    return:\n",
    "        pandas table - the alignment is correct or not\n",
    "    '''\n",
    "    # check the audio file is exist or not\n",
    "    if not os.path.exists(audio_path):\n",
    "        print('File not found')\n",
    "        return None\n",
    "    # load dummy dataset and read soundfiles\n",
    "    ds = stt.map_to_array({\"file\": audio_path})\n",
    "    ds['speech'] = np.mean(ds['speech'], axis = 1)\n",
    "\n",
    "    # read alignment csv\n",
    "    df_alignment = pd.read_csv(alignment_path, names=['start', 'end', 'word'])\n",
    "    df_result = pd.DataFrame(columns=['start', 'end', 'word', 'predict'])\n",
    "\n",
    "    t = 1 / ds['sampling_rate']\n",
    "\n",
    "    audio_list =  []\n",
    "    for i in range(len(df_alignment)):\n",
    "        start = int((df_alignment['start'].values[i] / t))\n",
    "        end = int((df_alignment['end'].values[i] / t))\n",
    "        word_sound = ds['speech'][start:end]\n",
    "        word_predict = stt._transcribe_with_vector(word_sound, ds)\n",
    "        if save_audio:\n",
    "            if not os.path.exists(path_save_audio):\n",
    "                os.mkdir(path_save_audio)\n",
    "            sf.write(path_save_audio + '/' + df_alignment['word'].values[i] + '.wav', word_sound, ds['sampling_rate'])\n",
    "        df_result = pd.concat([df_result, pd.DataFrame([[df_alignment['start'].values[i], \n",
    "        df_alignment['end'].values[i], df_alignment['word'].values[i], word_predict]], \n",
    "        columns=['start', 'end', 'word', 'predict'])], ignore_index=True)\n",
    "    return df_result"
   ]
  },
  {
   "cell_type": "code",
   "execution_count": 23,
   "metadata": {},
   "outputs": [],
   "source": [
    "k = check_alignment('test7.wav', 'test7.csv', save_audio=True, path_save_audio='test7')"
   ]
  },
  {
   "cell_type": "code",
   "execution_count": 24,
   "metadata": {},
   "outputs": [
    {
     "data": {
      "text/html": [
       "<div>\n",
       "<style scoped>\n",
       "    .dataframe tbody tr th:only-of-type {\n",
       "        vertical-align: middle;\n",
       "    }\n",
       "\n",
       "    .dataframe tbody tr th {\n",
       "        vertical-align: top;\n",
       "    }\n",
       "\n",
       "    .dataframe thead th {\n",
       "        text-align: right;\n",
       "    }\n",
       "</style>\n",
       "<table border=\"1\" class=\"dataframe\">\n",
       "  <thead>\n",
       "    <tr style=\"text-align: right;\">\n",
       "      <th></th>\n",
       "      <th>start</th>\n",
       "      <th>end</th>\n",
       "      <th>word</th>\n",
       "      <th>predict</th>\n",
       "    </tr>\n",
       "  </thead>\n",
       "  <tbody>\n",
       "    <tr>\n",
       "      <th>0</th>\n",
       "      <td>0.336</td>\n",
       "      <td>0.528</td>\n",
       "      <td>cho</td>\n",
       "      <td></td>\n",
       "    </tr>\n",
       "    <tr>\n",
       "      <th>1</th>\n",
       "      <td>0.624</td>\n",
       "      <td>0.720</td>\n",
       "      <td>đến</td>\n",
       "      <td></td>\n",
       "    </tr>\n",
       "    <tr>\n",
       "      <th>2</th>\n",
       "      <td>0.768</td>\n",
       "      <td>1.008</td>\n",
       "      <td>một</td>\n",
       "      <td>hai</td>\n",
       "    </tr>\n",
       "    <tr>\n",
       "      <th>3</th>\n",
       "      <td>1.056</td>\n",
       "      <td>1.248</td>\n",
       "      <td>ngày</td>\n",
       "      <td></td>\n",
       "    </tr>\n",
       "    <tr>\n",
       "      <th>4</th>\n",
       "      <td>1.296</td>\n",
       "      <td>1.440</td>\n",
       "      <td>khi</td>\n",
       "      <td></td>\n",
       "    </tr>\n",
       "    <tr>\n",
       "      <th>5</th>\n",
       "      <td>1.488</td>\n",
       "      <td>1.680</td>\n",
       "      <td>ngồi</td>\n",
       "      <td>hồi</td>\n",
       "    </tr>\n",
       "    <tr>\n",
       "      <th>6</th>\n",
       "      <td>1.728</td>\n",
       "      <td>1.920</td>\n",
       "      <td>từ</td>\n",
       "      <td></td>\n",
       "    </tr>\n",
       "    <tr>\n",
       "      <th>7</th>\n",
       "      <td>1.968</td>\n",
       "      <td>2.208</td>\n",
       "      <td>tốn</td>\n",
       "      <td></td>\n",
       "    </tr>\n",
       "    <tr>\n",
       "      <th>8</th>\n",
       "      <td>2.256</td>\n",
       "      <td>2.496</td>\n",
       "      <td>viết</td>\n",
       "      <td></td>\n",
       "    </tr>\n",
       "    <tr>\n",
       "      <th>9</th>\n",
       "      <td>2.544</td>\n",
       "      <td>2.784</td>\n",
       "      <td>xuống</td>\n",
       "      <td></td>\n",
       "    </tr>\n",
       "    <tr>\n",
       "      <th>10</th>\n",
       "      <td>2.832</td>\n",
       "      <td>3.024</td>\n",
       "      <td>một</td>\n",
       "      <td></td>\n",
       "    </tr>\n",
       "    <tr>\n",
       "      <th>11</th>\n",
       "      <td>3.072</td>\n",
       "      <td>3.168</td>\n",
       "      <td>thứ</td>\n",
       "      <td></td>\n",
       "    </tr>\n",
       "    <tr>\n",
       "      <th>12</th>\n",
       "      <td>3.216</td>\n",
       "      <td>3.360</td>\n",
       "      <td>gì</td>\n",
       "      <td></td>\n",
       "    </tr>\n",
       "    <tr>\n",
       "      <th>13</th>\n",
       "      <td>3.408</td>\n",
       "      <td>3.456</td>\n",
       "      <td>đó</td>\n",
       "      <td></td>\n",
       "    </tr>\n",
       "    <tr>\n",
       "      <th>14</th>\n",
       "      <td>3.504</td>\n",
       "      <td>3.600</td>\n",
       "      <td>gọi</td>\n",
       "      <td></td>\n",
       "    </tr>\n",
       "    <tr>\n",
       "      <th>15</th>\n",
       "      <td>3.696</td>\n",
       "      <td>3.840</td>\n",
       "      <td>là</td>\n",
       "      <td></td>\n",
       "    </tr>\n",
       "  </tbody>\n",
       "</table>\n",
       "</div>"
      ],
      "text/plain": [
       "    start    end   word predict\n",
       "0   0.336  0.528    cho        \n",
       "1   0.624  0.720    đến        \n",
       "2   0.768  1.008    một     hai\n",
       "3   1.056  1.248   ngày        \n",
       "4   1.296  1.440    khi        \n",
       "5   1.488  1.680   ngồi     hồi\n",
       "6   1.728  1.920     từ        \n",
       "7   1.968  2.208    tốn        \n",
       "8   2.256  2.496   viết        \n",
       "9   2.544  2.784  xuống        \n",
       "10  2.832  3.024    một        \n",
       "11  3.072  3.168    thứ        \n",
       "12  3.216  3.360     gì        \n",
       "13  3.408  3.456     đó        \n",
       "14  3.504  3.600    gọi        \n",
       "15  3.696  3.840     là        "
      ]
     },
     "execution_count": 24,
     "metadata": {},
     "output_type": "execute_result"
    }
   ],
   "source": [
    "k"
   ]
  },
  {
   "cell_type": "code",
   "execution_count": 27,
   "metadata": {},
   "outputs": [],
   "source": [
    "def second_to_timecode(x: float) -> str:\n",
    "    hour, x = divmod(x, 3600)\n",
    "    minute, x = divmod(x, 60)\n",
    "    second, x = divmod(x, 1)\n",
    "    millisecond = int(x * 1000.)\n",
    "    return '%.2d:%.2d:%.2d,%.3d' % (hour, minute, second, millisecond)"
   ]
  },
  {
   "cell_type": "code",
   "execution_count": 29,
   "metadata": {},
   "outputs": [],
   "source": [
    "def convert_to_srt(alignement_path):\n",
    "    df = pd.read_csv(alignement_path, names=['start', 'end', 'word'])\n",
    "    with open('test.srt', 'w') as f:\n",
    "        for i in range(len(df)):\n",
    "            f.write(f'{i+1}\\n')\n",
    "            f.write(f'{second_to_timecode(df[\"start\"].values[i])} --> {second_to_timecode(df[\"end\"].values[i])}\\n')\n",
    "            f.write(f'{df[\"word\"].values[i]}\\n\\n')\n",
    "convert_to_srt('test7.csv')\n"
   ]
  },
  {
   "cell_type": "code",
   "execution_count": null,
   "metadata": {},
   "outputs": [],
   "source": []
  }
 ],
 "metadata": {
  "kernelspec": {
   "display_name": "torch",
   "language": "python",
   "name": "python3"
  },
  "language_info": {
   "codemirror_mode": {
    "name": "ipython",
    "version": 3
   },
   "file_extension": ".py",
   "mimetype": "text/x-python",
   "name": "python",
   "nbconvert_exporter": "python",
   "pygments_lexer": "ipython3",
   "version": "3.9.15"
  },
  "orig_nbformat": 4,
  "vscode": {
   "interpreter": {
    "hash": "ad622261ae95de60e6c96049fca3491b86b06fbc6d42f9ff005be079e3e9e205"
   }
  }
 },
 "nbformat": 4,
 "nbformat_minor": 2
}
