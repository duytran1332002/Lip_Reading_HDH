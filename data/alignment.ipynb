{
 "cells": [
  {
   "cell_type": "code",
   "execution_count": 1,
   "id": "339d83a9",
   "metadata": {},
   "outputs": [
    {
     "name": "stdout",
     "output_type": "stream",
     "text": [
      "Requirement already satisfied: future in c:\\users\\admin\\appdata\\local\\packages\\pythonsoftwarefoundation.python.3.9_qbz5n2kfra8p0\\localcache\\local-packages\\python39\\site-packages (from -r requirements.txt (line 1)) (0.18.2)\n",
      "Requirement already satisfied: numpy in c:\\users\\admin\\appdata\\local\\packages\\pythonsoftwarefoundation.python.3.9_qbz5n2kfra8p0\\localcache\\local-packages\\python39\\site-packages (from -r requirements.txt (line 2)) (1.22.4)\n",
      "Requirement already satisfied: soundfile in c:\\users\\admin\\appdata\\local\\packages\\pythonsoftwarefoundation.python.3.9_qbz5n2kfra8p0\\localcache\\local-packages\\python39\\site-packages (from -r requirements.txt (line 3)) (0.10.3.post1)\n",
      "Requirement already satisfied: musdb in c:\\users\\admin\\appdata\\local\\packages\\pythonsoftwarefoundation.python.3.9_qbz5n2kfra8p0\\localcache\\local-packages\\python39\\site-packages (from -r requirements.txt (line 4)) (0.4.0)\n",
      "Requirement already satisfied: museval in c:\\users\\admin\\appdata\\local\\packages\\pythonsoftwarefoundation.python.3.9_qbz5n2kfra8p0\\localcache\\local-packages\\python39\\site-packages (from -r requirements.txt (line 5)) (0.4.0)\n",
      "Requirement already satisfied: h5py in c:\\users\\admin\\appdata\\local\\packages\\pythonsoftwarefoundation.python.3.9_qbz5n2kfra8p0\\localcache\\local-packages\\python39\\site-packages (from -r requirements.txt (line 6)) (3.6.0)\n",
      "Requirement already satisfied: tqdm in c:\\users\\admin\\appdata\\local\\packages\\pythonsoftwarefoundation.python.3.9_qbz5n2kfra8p0\\localcache\\local-packages\\python39\\site-packages (from -r requirements.txt (line 7)) (4.64.0)\n",
      "Requirement already satisfied: torch==1.8.0 in c:\\users\\admin\\appdata\\local\\packages\\pythonsoftwarefoundation.python.3.9_qbz5n2kfra8p0\\localcache\\local-packages\\python39\\site-packages (from -r requirements.txt (line 8)) (1.8.0)\n",
      "Requirement already satisfied: torchaudio in c:\\users\\admin\\appdata\\local\\packages\\pythonsoftwarefoundation.python.3.9_qbz5n2kfra8p0\\localcache\\local-packages\\python39\\site-packages (from -r requirements.txt (line 9)) (0.8.0)\n",
      "Requirement already satisfied: tensorboard in c:\\users\\admin\\appdata\\local\\packages\\pythonsoftwarefoundation.python.3.9_qbz5n2kfra8p0\\localcache\\local-packages\\python39\\site-packages (from -r requirements.txt (line 10)) (2.11.0)\n",
      "Requirement already satisfied: sortedcontainers in c:\\users\\admin\\appdata\\local\\packages\\pythonsoftwarefoundation.python.3.9_qbz5n2kfra8p0\\localcache\\local-packages\\python39\\site-packages (from -r requirements.txt (line 11)) (2.4.0)\n",
      "Requirement already satisfied: youtube_dl in c:\\users\\admin\\appdata\\local\\packages\\pythonsoftwarefoundation.python.3.9_qbz5n2kfra8p0\\localcache\\local-packages\\python39\\site-packages (from -r requirements.txt (line 12)) (2021.12.17)\n",
      "Requirement already satisfied: g2p_en in c:\\users\\admin\\appdata\\local\\packages\\pythonsoftwarefoundation.python.3.9_qbz5n2kfra8p0\\localcache\\local-packages\\python39\\site-packages (from -r requirements.txt (line 13)) (2.1.0)\n",
      "Requirement already satisfied: transformers==4.9.2 in c:\\users\\admin\\appdata\\local\\packages\\pythonsoftwarefoundation.python.3.9_qbz5n2kfra8p0\\localcache\\local-packages\\python39\\site-packages (from -r requirements.txt (line 14)) (4.9.2)\n",
      "Requirement already satisfied: pyctcdecode==v0.1.0 in c:\\users\\admin\\appdata\\local\\packages\\pythonsoftwarefoundation.python.3.9_qbz5n2kfra8p0\\localcache\\local-packages\\python39\\site-packages (from -r requirements.txt (line 15)) (0.1.0)\n",
      "Requirement already satisfied: kenlm in c:\\users\\admin\\appdata\\local\\packages\\pythonsoftwarefoundation.python.3.9_qbz5n2kfra8p0\\localcache\\local-packages\\python39\\site-packages (from -r requirements.txt (line 16)) (0.1)\n",
      "Requirement already satisfied: pytube in c:\\users\\admin\\appdata\\local\\packages\\pythonsoftwarefoundation.python.3.9_qbz5n2kfra8p0\\localcache\\local-packages\\python39\\site-packages (from -r requirements.txt (line 17)) (12.1.2)\n",
      "Requirement already satisfied: ffmpeg in c:\\users\\admin\\appdata\\local\\packages\\pythonsoftwarefoundation.python.3.9_qbz5n2kfra8p0\\localcache\\local-packages\\python39\\site-packages (from -r requirements.txt (line 18)) (1.4)\n",
      "Requirement already satisfied: typing-extensions in c:\\users\\admin\\appdata\\local\\packages\\pythonsoftwarefoundation.python.3.9_qbz5n2kfra8p0\\localcache\\local-packages\\python39\\site-packages (from torch==1.8.0->-r requirements.txt (line 8)) (4.4.0)\n",
      "Requirement already satisfied: huggingface-hub==0.0.12 in c:\\users\\admin\\appdata\\local\\packages\\pythonsoftwarefoundation.python.3.9_qbz5n2kfra8p0\\localcache\\local-packages\\python39\\site-packages (from transformers==4.9.2->-r requirements.txt (line 14)) (0.0.12)\n",
      "Requirement already satisfied: regex!=2019.12.17 in c:\\users\\admin\\appdata\\local\\packages\\pythonsoftwarefoundation.python.3.9_qbz5n2kfra8p0\\localcache\\local-packages\\python39\\site-packages (from transformers==4.9.2->-r requirements.txt (line 14)) (2022.6.2)\n",
      "Requirement already satisfied: requests in c:\\users\\admin\\appdata\\local\\packages\\pythonsoftwarefoundation.python.3.9_qbz5n2kfra8p0\\localcache\\local-packages\\python39\\site-packages (from transformers==4.9.2->-r requirements.txt (line 14)) (2.26.0)\n",
      "Requirement already satisfied: tokenizers<0.11,>=0.10.1 in c:\\users\\admin\\appdata\\local\\packages\\pythonsoftwarefoundation.python.3.9_qbz5n2kfra8p0\\localcache\\local-packages\\python39\\site-packages (from transformers==4.9.2->-r requirements.txt (line 14)) (0.10.3)\n",
      "Requirement already satisfied: packaging in c:\\users\\admin\\appdata\\local\\packages\\pythonsoftwarefoundation.python.3.9_qbz5n2kfra8p0\\localcache\\local-packages\\python39\\site-packages (from transformers==4.9.2->-r requirements.txt (line 14)) (21.3)\n",
      "Requirement already satisfied: sacremoses in c:\\users\\admin\\appdata\\local\\packages\\pythonsoftwarefoundation.python.3.9_qbz5n2kfra8p0\\localcache\\local-packages\\python39\\site-packages (from transformers==4.9.2->-r requirements.txt (line 14)) (0.0.53)\n",
      "Requirement already satisfied: pyyaml>=5.1 in c:\\users\\admin\\appdata\\local\\packages\\pythonsoftwarefoundation.python.3.9_qbz5n2kfra8p0\\localcache\\local-packages\\python39\\site-packages (from transformers==4.9.2->-r requirements.txt (line 14)) (6.0)\n",
      "Requirement already satisfied: filelock in c:\\users\\admin\\appdata\\local\\packages\\pythonsoftwarefoundation.python.3.9_qbz5n2kfra8p0\\localcache\\local-packages\\python39\\site-packages (from transformers==4.9.2->-r requirements.txt (line 14)) (3.3.2)\n",
      "Requirement already satisfied: pygtrie<3.0,>=2.1 in c:\\users\\admin\\appdata\\local\\packages\\pythonsoftwarefoundation.python.3.9_qbz5n2kfra8p0\\localcache\\local-packages\\python39\\site-packages (from pyctcdecode==v0.1.0->-r requirements.txt (line 15)) (2.5.0)\n",
      "Requirement already satisfied: cffi>=1.0 in c:\\users\\admin\\appdata\\local\\packages\\pythonsoftwarefoundation.python.3.9_qbz5n2kfra8p0\\localcache\\local-packages\\python39\\site-packages (from soundfile->-r requirements.txt (line 3)) (1.15.1)\n",
      "Requirement already satisfied: stempeg>=0.2.3 in c:\\users\\admin\\appdata\\local\\packages\\pythonsoftwarefoundation.python.3.9_qbz5n2kfra8p0\\localcache\\local-packages\\python39\\site-packages (from musdb->-r requirements.txt (line 4)) (0.2.3)\n",
      "Requirement already satisfied: pyaml in c:\\users\\admin\\appdata\\local\\packages\\pythonsoftwarefoundation.python.3.9_qbz5n2kfra8p0\\localcache\\local-packages\\python39\\site-packages (from musdb->-r requirements.txt (line 4)) (21.10.1)\n",
      "Requirement already satisfied: simplejson in c:\\users\\admin\\appdata\\local\\packages\\pythonsoftwarefoundation.python.3.9_qbz5n2kfra8p0\\localcache\\local-packages\\python39\\site-packages (from museval->-r requirements.txt (line 5)) (3.18.1)\n",
      "Requirement already satisfied: jsonschema in c:\\users\\admin\\appdata\\local\\packages\\pythonsoftwarefoundation.python.3.9_qbz5n2kfra8p0\\localcache\\local-packages\\python39\\site-packages (from museval->-r requirements.txt (line 5)) (4.7.2)\n",
      "Requirement already satisfied: scipy in c:\\users\\admin\\appdata\\local\\packages\\pythonsoftwarefoundation.python.3.9_qbz5n2kfra8p0\\localcache\\local-packages\\python39\\site-packages (from museval->-r requirements.txt (line 5)) (1.8.1)\n",
      "Requirement already satisfied: pandas>=1.0.1 in c:\\users\\admin\\appdata\\local\\packages\\pythonsoftwarefoundation.python.3.9_qbz5n2kfra8p0\\localcache\\local-packages\\python39\\site-packages (from museval->-r requirements.txt (line 5)) (1.4.4)\n",
      "Requirement already satisfied: colorama in c:\\users\\admin\\appdata\\local\\packages\\pythonsoftwarefoundation.python.3.9_qbz5n2kfra8p0\\localcache\\local-packages\\python39\\site-packages (from tqdm->-r requirements.txt (line 7)) (0.4.5)\n",
      "Requirement already satisfied: protobuf<4,>=3.9.2 in c:\\users\\admin\\appdata\\local\\packages\\pythonsoftwarefoundation.python.3.9_qbz5n2kfra8p0\\localcache\\local-packages\\python39\\site-packages (from tensorboard->-r requirements.txt (line 10)) (3.19.1)\n",
      "Requirement already satisfied: werkzeug>=1.0.1 in c:\\users\\admin\\appdata\\local\\packages\\pythonsoftwarefoundation.python.3.9_qbz5n2kfra8p0\\localcache\\local-packages\\python39\\site-packages (from tensorboard->-r requirements.txt (line 10)) (2.0.2)\n",
      "Requirement already satisfied: tensorboard-plugin-wit>=1.6.0 in c:\\users\\admin\\appdata\\local\\packages\\pythonsoftwarefoundation.python.3.9_qbz5n2kfra8p0\\localcache\\local-packages\\python39\\site-packages (from tensorboard->-r requirements.txt (line 10)) (1.8.0)\n",
      "Requirement already satisfied: google-auth<3,>=1.6.3 in c:\\users\\admin\\appdata\\local\\packages\\pythonsoftwarefoundation.python.3.9_qbz5n2kfra8p0\\localcache\\local-packages\\python39\\site-packages (from tensorboard->-r requirements.txt (line 10)) (2.3.3)\n",
      "Requirement already satisfied: tensorboard-data-server<0.7.0,>=0.6.0 in c:\\users\\admin\\appdata\\local\\packages\\pythonsoftwarefoundation.python.3.9_qbz5n2kfra8p0\\localcache\\local-packages\\python39\\site-packages (from tensorboard->-r requirements.txt (line 10)) (0.6.1)\n",
      "Requirement already satisfied: google-auth-oauthlib<0.5,>=0.4.1 in c:\\users\\admin\\appdata\\local\\packages\\pythonsoftwarefoundation.python.3.9_qbz5n2kfra8p0\\localcache\\local-packages\\python39\\site-packages (from tensorboard->-r requirements.txt (line 10)) (0.4.6)\n",
      "Requirement already satisfied: setuptools>=41.0.0 in c:\\users\\admin\\appdata\\local\\packages\\pythonsoftwarefoundation.python.3.9_qbz5n2kfra8p0\\localcache\\local-packages\\python39\\site-packages (from tensorboard->-r requirements.txt (line 10)) (65.6.3)\n",
      "Requirement already satisfied: grpcio>=1.24.3 in c:\\users\\admin\\appdata\\local\\packages\\pythonsoftwarefoundation.python.3.9_qbz5n2kfra8p0\\localcache\\local-packages\\python39\\site-packages (from tensorboard->-r requirements.txt (line 10)) (1.42.0)\n",
      "Requirement already satisfied: wheel>=0.26 in c:\\users\\admin\\appdata\\local\\packages\\pythonsoftwarefoundation.python.3.9_qbz5n2kfra8p0\\localcache\\local-packages\\python39\\site-packages (from tensorboard->-r requirements.txt (line 10)) (0.37.0)\n",
      "Requirement already satisfied: markdown>=2.6.8 in c:\\users\\admin\\appdata\\local\\packages\\pythonsoftwarefoundation.python.3.9_qbz5n2kfra8p0\\localcache\\local-packages\\python39\\site-packages (from tensorboard->-r requirements.txt (line 10)) (3.3.6)\n",
      "Requirement already satisfied: absl-py>=0.4 in c:\\users\\admin\\appdata\\local\\packages\\pythonsoftwarefoundation.python.3.9_qbz5n2kfra8p0\\localcache\\local-packages\\python39\\site-packages (from tensorboard->-r requirements.txt (line 10)) (1.0.0)\n",
      "Requirement already satisfied: nltk>=3.2.4 in c:\\users\\admin\\appdata\\local\\packages\\pythonsoftwarefoundation.python.3.9_qbz5n2kfra8p0\\localcache\\local-packages\\python39\\site-packages (from g2p_en->-r requirements.txt (line 13)) (3.8.1)\n",
      "Requirement already satisfied: inflect>=0.3.1 in c:\\users\\admin\\appdata\\local\\packages\\pythonsoftwarefoundation.python.3.9_qbz5n2kfra8p0\\localcache\\local-packages\\python39\\site-packages (from g2p_en->-r requirements.txt (line 13)) (6.0.2)\n",
      "Requirement already satisfied: distance>=0.1.3 in c:\\users\\admin\\appdata\\local\\packages\\pythonsoftwarefoundation.python.3.9_qbz5n2kfra8p0\\localcache\\local-packages\\python39\\site-packages (from g2p_en->-r requirements.txt (line 13)) (0.1.3)\n",
      "Requirement already satisfied: six in c:\\users\\admin\\appdata\\local\\packages\\pythonsoftwarefoundation.python.3.9_qbz5n2kfra8p0\\localcache\\local-packages\\python39\\site-packages (from absl-py>=0.4->tensorboard->-r requirements.txt (line 10)) (1.16.0)\n",
      "Requirement already satisfied: pycparser in c:\\users\\admin\\appdata\\local\\packages\\pythonsoftwarefoundation.python.3.9_qbz5n2kfra8p0\\localcache\\local-packages\\python39\\site-packages (from cffi>=1.0->soundfile->-r requirements.txt (line 3)) (2.21)\n",
      "Requirement already satisfied: cachetools<5.0,>=2.0.0 in c:\\users\\admin\\appdata\\local\\packages\\pythonsoftwarefoundation.python.3.9_qbz5n2kfra8p0\\localcache\\local-packages\\python39\\site-packages (from google-auth<3,>=1.6.3->tensorboard->-r requirements.txt (line 10)) (4.2.4)\n",
      "Requirement already satisfied: pyasn1-modules>=0.2.1 in c:\\users\\admin\\appdata\\local\\packages\\pythonsoftwarefoundation.python.3.9_qbz5n2kfra8p0\\localcache\\local-packages\\python39\\site-packages (from google-auth<3,>=1.6.3->tensorboard->-r requirements.txt (line 10)) (0.2.8)\n",
      "Requirement already satisfied: rsa<5,>=3.1.4 in c:\\users\\admin\\appdata\\local\\packages\\pythonsoftwarefoundation.python.3.9_qbz5n2kfra8p0\\localcache\\local-packages\\python39\\site-packages (from google-auth<3,>=1.6.3->tensorboard->-r requirements.txt (line 10)) (4.8)\n",
      "Requirement already satisfied: requests-oauthlib>=0.7.0 in c:\\users\\admin\\appdata\\local\\packages\\pythonsoftwarefoundation.python.3.9_qbz5n2kfra8p0\\localcache\\local-packages\\python39\\site-packages (from google-auth-oauthlib<0.5,>=0.4.1->tensorboard->-r requirements.txt (line 10)) (1.3.0)\n",
      "Requirement already satisfied: pydantic>=1.9.1 in c:\\users\\admin\\appdata\\local\\packages\\pythonsoftwarefoundation.python.3.9_qbz5n2kfra8p0\\localcache\\local-packages\\python39\\site-packages (from inflect>=0.3.1->g2p_en->-r requirements.txt (line 13)) (1.10.4)\n",
      "Requirement already satisfied: importlib-metadata>=4.4 in c:\\users\\admin\\appdata\\local\\packages\\pythonsoftwarefoundation.python.3.9_qbz5n2kfra8p0\\localcache\\local-packages\\python39\\site-packages (from markdown>=2.6.8->tensorboard->-r requirements.txt (line 10)) (5.1.0)\n",
      "Requirement already satisfied: click in c:\\users\\admin\\appdata\\local\\packages\\pythonsoftwarefoundation.python.3.9_qbz5n2kfra8p0\\localcache\\local-packages\\python39\\site-packages (from nltk>=3.2.4->g2p_en->-r requirements.txt (line 13)) (8.1.3)\n",
      "Requirement already satisfied: joblib in c:\\users\\admin\\appdata\\local\\packages\\pythonsoftwarefoundation.python.3.9_qbz5n2kfra8p0\\localcache\\local-packages\\python39\\site-packages (from nltk>=3.2.4->g2p_en->-r requirements.txt (line 13)) (1.2.0)\n",
      "Requirement already satisfied: pyparsing!=3.0.5,>=2.0.2 in c:\\users\\admin\\appdata\\local\\packages\\pythonsoftwarefoundation.python.3.9_qbz5n2kfra8p0\\localcache\\local-packages\\python39\\site-packages (from packaging->transformers==4.9.2->-r requirements.txt (line 14)) (3.0.8)\n",
      "Requirement already satisfied: python-dateutil>=2.8.1 in c:\\users\\admin\\appdata\\local\\packages\\pythonsoftwarefoundation.python.3.9_qbz5n2kfra8p0\\localcache\\local-packages\\python39\\site-packages (from pandas>=1.0.1->museval->-r requirements.txt (line 5)) (2.8.2)\n",
      "Requirement already satisfied: pytz>=2020.1 in c:\\users\\admin\\appdata\\local\\packages\\pythonsoftwarefoundation.python.3.9_qbz5n2kfra8p0\\localcache\\local-packages\\python39\\site-packages (from pandas>=1.0.1->museval->-r requirements.txt (line 5)) (2022.6)\n",
      "Requirement already satisfied: certifi>=2017.4.17 in c:\\users\\admin\\appdata\\local\\packages\\pythonsoftwarefoundation.python.3.9_qbz5n2kfra8p0\\localcache\\local-packages\\python39\\site-packages (from requests->transformers==4.9.2->-r requirements.txt (line 14)) (2021.10.8)\n",
      "Requirement already satisfied: urllib3<1.27,>=1.21.1 in c:\\users\\admin\\appdata\\local\\packages\\pythonsoftwarefoundation.python.3.9_qbz5n2kfra8p0\\localcache\\local-packages\\python39\\site-packages (from requests->transformers==4.9.2->-r requirements.txt (line 14)) (1.26.7)\n",
      "Requirement already satisfied: charset-normalizer~=2.0.0 in c:\\users\\admin\\appdata\\local\\packages\\pythonsoftwarefoundation.python.3.9_qbz5n2kfra8p0\\localcache\\local-packages\\python39\\site-packages (from requests->transformers==4.9.2->-r requirements.txt (line 14)) (2.0.7)\n",
      "Requirement already satisfied: idna<4,>=2.5 in c:\\users\\admin\\appdata\\local\\packages\\pythonsoftwarefoundation.python.3.9_qbz5n2kfra8p0\\localcache\\local-packages\\python39\\site-packages (from requests->transformers==4.9.2->-r requirements.txt (line 14)) (3.3)\n",
      "Requirement already satisfied: ffmpeg-python>=0.2.0 in c:\\users\\admin\\appdata\\local\\packages\\pythonsoftwarefoundation.python.3.9_qbz5n2kfra8p0\\localcache\\local-packages\\python39\\site-packages (from stempeg>=0.2.3->musdb->-r requirements.txt (line 4)) (0.2.0)\n",
      "Requirement already satisfied: attrs>=17.4.0 in c:\\users\\admin\\appdata\\local\\packages\\pythonsoftwarefoundation.python.3.9_qbz5n2kfra8p0\\localcache\\local-packages\\python39\\site-packages (from jsonschema->museval->-r requirements.txt (line 5)) (21.4.0)\n",
      "Requirement already satisfied: pyrsistent!=0.17.0,!=0.17.1,!=0.17.2,>=0.14.0 in c:\\users\\admin\\appdata\\local\\packages\\pythonsoftwarefoundation.python.3.9_qbz5n2kfra8p0\\localcache\\local-packages\\python39\\site-packages (from jsonschema->museval->-r requirements.txt (line 5)) (0.18.1)\n",
      "Requirement already satisfied: zipp>=0.5 in c:\\users\\admin\\appdata\\local\\packages\\pythonsoftwarefoundation.python.3.9_qbz5n2kfra8p0\\localcache\\local-packages\\python39\\site-packages (from importlib-metadata>=4.4->markdown>=2.6.8->tensorboard->-r requirements.txt (line 10)) (3.6.0)\n",
      "Requirement already satisfied: pyasn1<0.5.0,>=0.4.6 in c:\\users\\admin\\appdata\\local\\packages\\pythonsoftwarefoundation.python.3.9_qbz5n2kfra8p0\\localcache\\local-packages\\python39\\site-packages (from pyasn1-modules>=0.2.1->google-auth<3,>=1.6.3->tensorboard->-r requirements.txt (line 10)) (0.4.8)\n",
      "Requirement already satisfied: oauthlib>=3.0.0 in c:\\users\\admin\\appdata\\local\\packages\\pythonsoftwarefoundation.python.3.9_qbz5n2kfra8p0\\localcache\\local-packages\\python39\\site-packages (from requests-oauthlib>=0.7.0->google-auth-oauthlib<0.5,>=0.4.1->tensorboard->-r requirements.txt (line 10)) (3.1.1)\n"
     ]
    }
   ],
   "source": [
    "!pip install -r requirements.txt"
   ]
  },
  {
   "cell_type": "code",
   "execution_count": 1,
   "id": "1a40ba52",
   "metadata": {},
   "outputs": [
    {
     "name": "stderr",
     "output_type": "stream",
     "text": [
      "C:\\Users\\Admin\\AppData\\Local\\Packages\\PythonSoftwareFoundation.Python.3.9_qbz5n2kfra8p0\\LocalCache\\local-packages\\Python39\\site-packages\\torchaudio\\extension\\extension.py:13: UserWarning: torchaudio C++ extension is not available.\n",
      "  warnings.warn('torchaudio C++ extension is not available.')\n"
     ]
    }
   ],
   "source": [
    "import os\n",
    "from wrapper import preprocess_from_file, align, write_csv"
   ]
  },
  {
   "cell_type": "code",
   "execution_count": 2,
   "id": "267f8035",
   "metadata": {},
   "outputs": [],
   "source": [
    "def align_transcript(audios_path, transcripts_path, save_path) -> None:\n",
    "    '''\n",
    "        Get the beginning and ending of each word in the audio and save them\n",
    "        as an csv file.\n",
    "\n",
    "        Parameters:\n",
    "            audios_path: str\n",
    "                path to audio folder\n",
    "            transcripts_path: str\n",
    "                path to transcript folder\n",
    "            save_path: str\n",
    "                path to folder that contain the result\n",
    "    '''\n",
    "    assert os.path.exists(audios_path) and os.listdir(audios_path) != []\n",
    "    assert os.path.exists(transcripts_path) and os.listdir(\n",
    "        transcripts_path) != []\n",
    "    if not os.path.exists(save_path):\n",
    "        os.makedirs(save_path)\n",
    "    method = 'MTL_BDR'\n",
    "    for audio_file in os.listdir(audios_path):\n",
    "        audio_path = os.path.join(audios_path, audio_file)\n",
    "        transcript_path = os.path.join(\n",
    "            transcripts_path, audio_file.replace('.wav', '.txt'))\n",
    "        dest = os.path.join(save_path, audio_file.replace('.wav', '.csv'))\n",
    "        sampling_rate = 16000\n",
    "        (audio,\n",
    "         words, lyrics_p, idx_word_p, idx_line_p) = preprocess_from_file(audio_path,\n",
    "                                                                         sampling_rate,\n",
    "                                                                         transcript_path,\n",
    "                                                                         word_file=None)\n",
    "        word_align, words = align(audio, sampling_rate,\n",
    "                                  words, lyrics_p, idx_word_p, idx_line_p,\n",
    "                                  method=method,\n",
    "                                  cuda=True)\n",
    "        write_csv(sampling_rate, dest, word_align, words)\n"
   ]
  },
  {
   "cell_type": "code",
   "execution_count": 3,
   "id": "19939e20",
   "metadata": {},
   "outputs": [
    {
     "ename": "AssertionError",
     "evalue": "",
     "output_type": "error",
     "traceback": [
      "\u001b[1;31m---------------------------------------------------------------------------\u001b[0m",
      "\u001b[1;31mAssertionError\u001b[0m                            Traceback (most recent call last)",
      "Cell \u001b[1;32mIn [3], line 2\u001b[0m\n\u001b[0;32m      1\u001b[0m \u001b[39m# Start alignment\u001b[39;00m\n\u001b[1;32m----> 2\u001b[0m align_transcript(audios_path\u001b[39m=\u001b[39;49m\u001b[39mr\u001b[39;49m\u001b[39m'\u001b[39;49m\u001b[39m..\u001b[39;49m\u001b[39m\\\u001b[39;49m\u001b[39mdata\u001b[39;49m\u001b[39m\\\u001b[39;49m\u001b[39maudios\u001b[39;49m\u001b[39m'\u001b[39;49m,\n\u001b[0;32m      3\u001b[0m                  transcripts_path\u001b[39m=\u001b[39;49m\u001b[39mr\u001b[39;49m\u001b[39m'\u001b[39;49m\u001b[39m..\u001b[39;49m\u001b[39m\\\u001b[39;49m\u001b[39mdata\u001b[39;49m\u001b[39m\\\u001b[39;49m\u001b[39mtranscripts\u001b[39;49m\u001b[39m'\u001b[39;49m,\n\u001b[0;32m      4\u001b[0m                  save_path\u001b[39m=\u001b[39;49m\u001b[39mr\u001b[39;49m\u001b[39m'\u001b[39;49m\u001b[39m..\u001b[39;49m\u001b[39m\\\u001b[39;49m\u001b[39mdata\u001b[39;49m\u001b[39m\\\u001b[39;49m\u001b[39maligned_transcripts\u001b[39;49m\u001b[39m'\u001b[39;49m)\n",
      "Cell \u001b[1;32mIn [2], line 14\u001b[0m, in \u001b[0;36malign_transcript\u001b[1;34m(audios_path, transcripts_path, save_path)\u001b[0m\n\u001b[0;32m      1\u001b[0m \u001b[39mdef\u001b[39;00m \u001b[39malign_transcript\u001b[39m(audios_path, transcripts_path, save_path) \u001b[39m-\u001b[39m\u001b[39m>\u001b[39m \u001b[39mNone\u001b[39;00m:\n\u001b[0;32m      2\u001b[0m     \u001b[39m'''\u001b[39;00m\n\u001b[0;32m      3\u001b[0m \u001b[39m        Get the beginning and ending of each word in the audio and save them\u001b[39;00m\n\u001b[0;32m      4\u001b[0m \u001b[39m        as an csv file.\u001b[39;00m\n\u001b[1;32m   (...)\u001b[0m\n\u001b[0;32m     12\u001b[0m \u001b[39m                path to folder that contain the result\u001b[39;00m\n\u001b[0;32m     13\u001b[0m \u001b[39m    '''\u001b[39;00m\n\u001b[1;32m---> 14\u001b[0m     \u001b[39massert\u001b[39;00m os\u001b[39m.\u001b[39mpath\u001b[39m.\u001b[39mexists(audios_path) \u001b[39mand\u001b[39;00m os\u001b[39m.\u001b[39mlistdir(audios_path) \u001b[39m!=\u001b[39m []\n\u001b[0;32m     15\u001b[0m     \u001b[39massert\u001b[39;00m os\u001b[39m.\u001b[39mpath\u001b[39m.\u001b[39mexists(transcripts_path) \u001b[39mand\u001b[39;00m os\u001b[39m.\u001b[39mlistdir(\n\u001b[0;32m     16\u001b[0m         transcripts_path) \u001b[39m!=\u001b[39m []\n\u001b[0;32m     17\u001b[0m     \u001b[39mif\u001b[39;00m \u001b[39mnot\u001b[39;00m os\u001b[39m.\u001b[39mpath\u001b[39m.\u001b[39mexists(save_path):\n",
      "\u001b[1;31mAssertionError\u001b[0m: "
     ]
    }
   ],
   "source": [
    "# Start alignment\n",
    "align_transcript(audios_path=r'..\\data\\audios',\n",
    "                 transcripts_path=r'..\\data\\transcripts',\n",
    "                 save_path=r'..\\data\\aligned_transcripts')"
   ]
  },
  {
   "cell_type": "code",
   "execution_count": 4,
   "id": "9aa6f43d",
   "metadata": {},
   "outputs": [
    {
     "name": "stdout",
     "output_type": "stream",
     "text": [
      "Model: MTL BDR?: True\n",
      "Loading acoustic model from checkpoint...\n",
      "Computing phoneme posteriorgram...\n"
     ]
    },
    {
     "ename": "KeyboardInterrupt",
     "evalue": "",
     "output_type": "error",
     "traceback": [
      "\u001b[1;31m---------------------------------------------------------------------------\u001b[0m",
      "\u001b[1;31mKeyboardInterrupt\u001b[0m                         Traceback (most recent call last)",
      "Cell \u001b[1;32mIn [4], line 1\u001b[0m\n\u001b[1;32m----> 1\u001b[0m align_transcript(audios_path\u001b[39m=\u001b[39;49m\u001b[39mr\u001b[39;49m\u001b[39m'\u001b[39;49m\u001b[39m..\u001b[39;49m\u001b[39m\\\u001b[39;49m\u001b[39m..\u001b[39;49m\u001b[39m\\\u001b[39;49m\u001b[39mtest_data\u001b[39;49m\u001b[39m\\\u001b[39;49m\u001b[39maudios\u001b[39;49m\u001b[39m'\u001b[39;49m,\n\u001b[0;32m      2\u001b[0m                  transcripts_path\u001b[39m=\u001b[39;49m\u001b[39mr\u001b[39;49m\u001b[39m'\u001b[39;49m\u001b[39m..\u001b[39;49m\u001b[39m\\\u001b[39;49m\u001b[39m..\u001b[39;49m\u001b[39m\\\u001b[39;49m\u001b[39mtest_data\u001b[39;49m\u001b[39m\\\u001b[39;49m\u001b[39mtranscripts\u001b[39;49m\u001b[39m'\u001b[39;49m,\n\u001b[0;32m      3\u001b[0m                  save_path\u001b[39m=\u001b[39;49m\u001b[39mr\u001b[39;49m\u001b[39m'\u001b[39;49m\u001b[39m..\u001b[39;49m\u001b[39m\\\u001b[39;49m\u001b[39m..\u001b[39;49m\u001b[39m\\\u001b[39;49m\u001b[39mtest_data\u001b[39;49m\u001b[39m\\\u001b[39;49m\u001b[39maligned_transcripts\u001b[39;49m\u001b[39m'\u001b[39;49m)\n",
      "Cell \u001b[1;32mIn [2], line 31\u001b[0m, in \u001b[0;36malign_transcript\u001b[1;34m(audios_path, transcripts_path, save_path)\u001b[0m\n\u001b[0;32m     25\u001b[0m sampling_rate \u001b[39m=\u001b[39m \u001b[39m16000\u001b[39m\n\u001b[0;32m     26\u001b[0m (audio,\n\u001b[0;32m     27\u001b[0m  words, lyrics_p, idx_word_p, idx_line_p) \u001b[39m=\u001b[39m preprocess_from_file(audio_path,\n\u001b[0;32m     28\u001b[0m                                                                  sampling_rate,\n\u001b[0;32m     29\u001b[0m                                                                  transcript_path,\n\u001b[0;32m     30\u001b[0m                                                                  word_file\u001b[39m=\u001b[39m\u001b[39mNone\u001b[39;00m)\n\u001b[1;32m---> 31\u001b[0m word_align, words \u001b[39m=\u001b[39m align(audio, sampling_rate,\n\u001b[0;32m     32\u001b[0m                           words, lyrics_p, idx_word_p, idx_line_p,\n\u001b[0;32m     33\u001b[0m                           method\u001b[39m=\u001b[39;49mmethod,\n\u001b[0;32m     34\u001b[0m                           cuda\u001b[39m=\u001b[39;49m\u001b[39mTrue\u001b[39;49;00m)\n\u001b[0;32m     35\u001b[0m write_csv(sampling_rate, dest, word_align, words)\n",
      "File \u001b[1;32md:\\Coding\\LipReadingProject\\Lip_Reading_HDH\\data\\wrapper.py:81\u001b[0m, in \u001b[0;36malign\u001b[1;34m(audio, sampling_rate, words, lyrics_p, idx_word_p, idx_line_p, method, cuda)\u001b[0m\n\u001b[0;32m     78\u001b[0m x \u001b[39m=\u001b[39m nn\u001b[39m.\u001b[39mutils\u001b[39m.\u001b[39mrnn\u001b[39m.\u001b[39mpad_sequence(x, batch_first\u001b[39m=\u001b[39m\u001b[39mTrue\u001b[39;00m)\u001b[39m.\u001b[39munsqueeze(\u001b[39m1\u001b[39m)\n\u001b[0;32m     80\u001b[0m \u001b[39m# predict\u001b[39;00m\n\u001b[1;32m---> 81\u001b[0m all_outputs \u001b[39m=\u001b[39m ac_model(x)\n\u001b[0;32m     82\u001b[0m \u001b[39mif\u001b[39;00m model_type \u001b[39m==\u001b[39m \u001b[39m\"\u001b[39m\u001b[39mMTL\u001b[39m\u001b[39m\"\u001b[39m:\n\u001b[0;32m     83\u001b[0m     all_outputs \u001b[39m=\u001b[39m torch\u001b[39m.\u001b[39msum(all_outputs, dim\u001b[39m=\u001b[39m\u001b[39m3\u001b[39m)\n",
      "File \u001b[1;32m~\\AppData\\Local\\Packages\\PythonSoftwareFoundation.Python.3.9_qbz5n2kfra8p0\\LocalCache\\local-packages\\Python39\\site-packages\\torch\\nn\\modules\\module.py:889\u001b[0m, in \u001b[0;36mModule._call_impl\u001b[1;34m(self, *input, **kwargs)\u001b[0m\n\u001b[0;32m    887\u001b[0m     result \u001b[39m=\u001b[39m \u001b[39mself\u001b[39m\u001b[39m.\u001b[39m_slow_forward(\u001b[39m*\u001b[39m\u001b[39minput\u001b[39m, \u001b[39m*\u001b[39m\u001b[39m*\u001b[39mkwargs)\n\u001b[0;32m    888\u001b[0m \u001b[39melse\u001b[39;00m:\n\u001b[1;32m--> 889\u001b[0m     result \u001b[39m=\u001b[39m \u001b[39mself\u001b[39m\u001b[39m.\u001b[39mforward(\u001b[39m*\u001b[39m\u001b[39minput\u001b[39m, \u001b[39m*\u001b[39m\u001b[39m*\u001b[39mkwargs)\n\u001b[0;32m    890\u001b[0m \u001b[39mfor\u001b[39;00m hook \u001b[39min\u001b[39;00m itertools\u001b[39m.\u001b[39mchain(\n\u001b[0;32m    891\u001b[0m         _global_forward_hooks\u001b[39m.\u001b[39mvalues(),\n\u001b[0;32m    892\u001b[0m         \u001b[39mself\u001b[39m\u001b[39m.\u001b[39m_forward_hooks\u001b[39m.\u001b[39mvalues()):\n\u001b[0;32m    893\u001b[0m     hook_result \u001b[39m=\u001b[39m hook(\u001b[39mself\u001b[39m, \u001b[39minput\u001b[39m, result)\n",
      "File \u001b[1;32md:\\Coding\\LipReadingProject\\Lip_Reading_HDH\\data\\model.py:148\u001b[0m, in \u001b[0;36mAcousticModel.forward\u001b[1;34m(self, x)\u001b[0m\n\u001b[0;32m    146\u001b[0m x \u001b[39m=\u001b[39m \u001b[39mself\u001b[39m\u001b[39m.\u001b[39mcnn_layers(x)\n\u001b[0;32m    147\u001b[0m x \u001b[39m=\u001b[39m \u001b[39mself\u001b[39m\u001b[39m.\u001b[39mrescnn_layers(x)\n\u001b[1;32m--> 148\u001b[0m x \u001b[39m=\u001b[39m \u001b[39mself\u001b[39;49m\u001b[39m.\u001b[39;49mmaxpooling(x)\n\u001b[0;32m    150\u001b[0m sizes \u001b[39m=\u001b[39m x\u001b[39m.\u001b[39msize()\n\u001b[0;32m    151\u001b[0m x \u001b[39m=\u001b[39m x\u001b[39m.\u001b[39mview(sizes[\u001b[39m0\u001b[39m], sizes[\u001b[39m1\u001b[39m] \u001b[39m*\u001b[39m sizes[\u001b[39m2\u001b[39m], sizes[\u001b[39m3\u001b[39m])  \u001b[39m# (batch, feature, time)\u001b[39;00m\n",
      "File \u001b[1;32m~\\AppData\\Local\\Packages\\PythonSoftwareFoundation.Python.3.9_qbz5n2kfra8p0\\LocalCache\\local-packages\\Python39\\site-packages\\torch\\nn\\modules\\module.py:889\u001b[0m, in \u001b[0;36mModule._call_impl\u001b[1;34m(self, *input, **kwargs)\u001b[0m\n\u001b[0;32m    887\u001b[0m     result \u001b[39m=\u001b[39m \u001b[39mself\u001b[39m\u001b[39m.\u001b[39m_slow_forward(\u001b[39m*\u001b[39m\u001b[39minput\u001b[39m, \u001b[39m*\u001b[39m\u001b[39m*\u001b[39mkwargs)\n\u001b[0;32m    888\u001b[0m \u001b[39melse\u001b[39;00m:\n\u001b[1;32m--> 889\u001b[0m     result \u001b[39m=\u001b[39m \u001b[39mself\u001b[39m\u001b[39m.\u001b[39mforward(\u001b[39m*\u001b[39m\u001b[39minput\u001b[39m, \u001b[39m*\u001b[39m\u001b[39m*\u001b[39mkwargs)\n\u001b[0;32m    890\u001b[0m \u001b[39mfor\u001b[39;00m hook \u001b[39min\u001b[39;00m itertools\u001b[39m.\u001b[39mchain(\n\u001b[0;32m    891\u001b[0m         _global_forward_hooks\u001b[39m.\u001b[39mvalues(),\n\u001b[0;32m    892\u001b[0m         \u001b[39mself\u001b[39m\u001b[39m.\u001b[39m_forward_hooks\u001b[39m.\u001b[39mvalues()):\n\u001b[0;32m    893\u001b[0m     hook_result \u001b[39m=\u001b[39m hook(\u001b[39mself\u001b[39m, \u001b[39minput\u001b[39m, result)\n",
      "File \u001b[1;32m~\\AppData\\Local\\Packages\\PythonSoftwareFoundation.Python.3.9_qbz5n2kfra8p0\\LocalCache\\local-packages\\Python39\\site-packages\\torch\\nn\\modules\\pooling.py:162\u001b[0m, in \u001b[0;36mMaxPool2d.forward\u001b[1;34m(self, input)\u001b[0m\n\u001b[0;32m    161\u001b[0m \u001b[39mdef\u001b[39;00m \u001b[39mforward\u001b[39m(\u001b[39mself\u001b[39m, \u001b[39minput\u001b[39m: Tensor) \u001b[39m-\u001b[39m\u001b[39m>\u001b[39m Tensor:\n\u001b[1;32m--> 162\u001b[0m     \u001b[39mreturn\u001b[39;00m F\u001b[39m.\u001b[39;49mmax_pool2d(\u001b[39minput\u001b[39;49m, \u001b[39mself\u001b[39;49m\u001b[39m.\u001b[39;49mkernel_size, \u001b[39mself\u001b[39;49m\u001b[39m.\u001b[39;49mstride,\n\u001b[0;32m    163\u001b[0m                         \u001b[39mself\u001b[39;49m\u001b[39m.\u001b[39;49mpadding, \u001b[39mself\u001b[39;49m\u001b[39m.\u001b[39;49mdilation, \u001b[39mself\u001b[39;49m\u001b[39m.\u001b[39;49mceil_mode,\n\u001b[0;32m    164\u001b[0m                         \u001b[39mself\u001b[39;49m\u001b[39m.\u001b[39;49mreturn_indices)\n",
      "File \u001b[1;32m~\\AppData\\Local\\Packages\\PythonSoftwareFoundation.Python.3.9_qbz5n2kfra8p0\\LocalCache\\local-packages\\Python39\\site-packages\\torch\\_jit_internal.py:365\u001b[0m, in \u001b[0;36mboolean_dispatch.<locals>.fn\u001b[1;34m(*args, **kwargs)\u001b[0m\n\u001b[0;32m    363\u001b[0m     \u001b[39mreturn\u001b[39;00m if_true(\u001b[39m*\u001b[39margs, \u001b[39m*\u001b[39m\u001b[39m*\u001b[39mkwargs)\n\u001b[0;32m    364\u001b[0m \u001b[39melse\u001b[39;00m:\n\u001b[1;32m--> 365\u001b[0m     \u001b[39mreturn\u001b[39;00m if_false(\u001b[39m*\u001b[39margs, \u001b[39m*\u001b[39m\u001b[39m*\u001b[39mkwargs)\n",
      "File \u001b[1;32m~\\AppData\\Local\\Packages\\PythonSoftwareFoundation.Python.3.9_qbz5n2kfra8p0\\LocalCache\\local-packages\\Python39\\site-packages\\torch\\nn\\functional.py:659\u001b[0m, in \u001b[0;36m_max_pool2d\u001b[1;34m(input, kernel_size, stride, padding, dilation, ceil_mode, return_indices)\u001b[0m\n\u001b[0;32m    657\u001b[0m \u001b[39mif\u001b[39;00m stride \u001b[39mis\u001b[39;00m \u001b[39mNone\u001b[39;00m:\n\u001b[0;32m    658\u001b[0m     stride \u001b[39m=\u001b[39m torch\u001b[39m.\u001b[39mjit\u001b[39m.\u001b[39mannotate(List[\u001b[39mint\u001b[39m], [])\n\u001b[1;32m--> 659\u001b[0m \u001b[39mreturn\u001b[39;00m torch\u001b[39m.\u001b[39;49mmax_pool2d(\u001b[39minput\u001b[39;49m, kernel_size, stride, padding, dilation, ceil_mode)\n",
      "\u001b[1;31mKeyboardInterrupt\u001b[0m: "
     ]
    }
   ],
   "source": [
    "align_transcript(audios_path=r'..\\..\\test_data\\audios',\n",
    "                 transcripts_path=r'..\\..\\test_data\\transcripts',\n",
    "                 save_path=r'..\\..\\test_data\\aligned_transcripts')"
   ]
  },
  {
   "cell_type": "code",
   "execution_count": 5,
   "id": "e1db375d",
   "metadata": {},
   "outputs": [
    {
     "data": {
      "text/html": [
       "<div>\n",
       "<style scoped>\n",
       "    .dataframe tbody tr th:only-of-type {\n",
       "        vertical-align: middle;\n",
       "    }\n",
       "\n",
       "    .dataframe tbody tr th {\n",
       "        vertical-align: top;\n",
       "    }\n",
       "\n",
       "    .dataframe thead th {\n",
       "        text-align: right;\n",
       "    }\n",
       "</style>\n",
       "<table border=\"1\" class=\"dataframe\">\n",
       "  <thead>\n",
       "    <tr style=\"text-align: right;\">\n",
       "      <th></th>\n",
       "      <th>0.336</th>\n",
       "      <th>0.528</th>\n",
       "      <th>cho</th>\n",
       "    </tr>\n",
       "  </thead>\n",
       "  <tbody>\n",
       "    <tr>\n",
       "      <th>0</th>\n",
       "      <td>0.624</td>\n",
       "      <td>0.720</td>\n",
       "      <td>đến</td>\n",
       "    </tr>\n",
       "    <tr>\n",
       "      <th>1</th>\n",
       "      <td>0.768</td>\n",
       "      <td>1.008</td>\n",
       "      <td>một</td>\n",
       "    </tr>\n",
       "    <tr>\n",
       "      <th>2</th>\n",
       "      <td>1.056</td>\n",
       "      <td>1.248</td>\n",
       "      <td>ngày</td>\n",
       "    </tr>\n",
       "    <tr>\n",
       "      <th>3</th>\n",
       "      <td>1.296</td>\n",
       "      <td>1.440</td>\n",
       "      <td>khi</td>\n",
       "    </tr>\n",
       "    <tr>\n",
       "      <th>4</th>\n",
       "      <td>1.488</td>\n",
       "      <td>1.680</td>\n",
       "      <td>ngồi</td>\n",
       "    </tr>\n",
       "    <tr>\n",
       "      <th>5</th>\n",
       "      <td>1.728</td>\n",
       "      <td>1.920</td>\n",
       "      <td>từ</td>\n",
       "    </tr>\n",
       "    <tr>\n",
       "      <th>6</th>\n",
       "      <td>1.968</td>\n",
       "      <td>2.208</td>\n",
       "      <td>tốn</td>\n",
       "    </tr>\n",
       "    <tr>\n",
       "      <th>7</th>\n",
       "      <td>2.256</td>\n",
       "      <td>2.496</td>\n",
       "      <td>viết</td>\n",
       "    </tr>\n",
       "    <tr>\n",
       "      <th>8</th>\n",
       "      <td>2.544</td>\n",
       "      <td>2.832</td>\n",
       "      <td>xuống</td>\n",
       "    </tr>\n",
       "    <tr>\n",
       "      <th>9</th>\n",
       "      <td>2.880</td>\n",
       "      <td>3.024</td>\n",
       "      <td>một</td>\n",
       "    </tr>\n",
       "    <tr>\n",
       "      <th>10</th>\n",
       "      <td>3.072</td>\n",
       "      <td>3.168</td>\n",
       "      <td>thứ</td>\n",
       "    </tr>\n",
       "    <tr>\n",
       "      <th>11</th>\n",
       "      <td>3.216</td>\n",
       "      <td>3.360</td>\n",
       "      <td>gì</td>\n",
       "    </tr>\n",
       "    <tr>\n",
       "      <th>12</th>\n",
       "      <td>3.408</td>\n",
       "      <td>3.456</td>\n",
       "      <td>đó</td>\n",
       "    </tr>\n",
       "    <tr>\n",
       "      <th>13</th>\n",
       "      <td>3.504</td>\n",
       "      <td>3.600</td>\n",
       "      <td>gọi</td>\n",
       "    </tr>\n",
       "    <tr>\n",
       "      <th>14</th>\n",
       "      <td>3.696</td>\n",
       "      <td>3.840</td>\n",
       "      <td>là</td>\n",
       "    </tr>\n",
       "  </tbody>\n",
       "</table>\n",
       "</div>"
      ],
      "text/plain": [
       "    0.336  0.528    cho\n",
       "0   0.624  0.720    đến\n",
       "1   0.768  1.008    một\n",
       "2   1.056  1.248   ngày\n",
       "3   1.296  1.440    khi\n",
       "4   1.488  1.680   ngồi\n",
       "5   1.728  1.920     từ\n",
       "6   1.968  2.208    tốn\n",
       "7   2.256  2.496   viết\n",
       "8   2.544  2.832  xuống\n",
       "9   2.880  3.024    một\n",
       "10  3.072  3.168    thứ\n",
       "11  3.216  3.360     gì\n",
       "12  3.408  3.456     đó\n",
       "13  3.504  3.600    gọi\n",
       "14  3.696  3.840     là"
      ]
     },
     "execution_count": 5,
     "metadata": {},
     "output_type": "execute_result"
    }
   ],
   "source": [
    "import pandas as pd\n",
    "df = pd.read_csv(r'..\\..\\test_data\\aligned_transcripts\\test7.csv')\n",
    "df"
   ]
  },
  {
   "cell_type": "code",
   "execution_count": 6,
   "id": "53c6d46c",
   "metadata": {},
   "outputs": [
    {
     "data": {
      "text/plain": [
       "(array([[-0.02072144, -0.02261353],\n",
       "        [-0.02151489, -0.02093506],\n",
       "        [-0.02249146, -0.01791382],\n",
       "        ...,\n",
       "        [-0.03012085, -0.04223633],\n",
       "        [-0.01794434, -0.02633667],\n",
       "        [-0.01486206, -0.02069092]]),\n",
       " 16000)"
      ]
     },
     "execution_count": 6,
     "metadata": {},
     "output_type": "execute_result"
    }
   ],
   "source": [
    "import soundfile\n",
    "soundfile.read(r'..\\..\\test_data\\audios\\test7.wav')"
   ]
  }
 ],
 "metadata": {
  "kernelspec": {
   "display_name": "Python 3",
   "language": "python",
   "name": "python3"
  },
  "language_info": {
   "codemirror_mode": {
    "name": "ipython",
    "version": 3
   },
   "file_extension": ".py",
   "mimetype": "text/x-python",
   "name": "python",
   "nbconvert_exporter": "python",
   "pygments_lexer": "ipython3",
   "version": "3.9.13"
  },
  "vscode": {
   "interpreter": {
    "hash": "be4d3b4822a6442cbf7fdbfd130bf27bf72d67783b10db29e0e37ba766e7b7fd"
   }
  }
 },
 "nbformat": 4,
 "nbformat_minor": 5
}
