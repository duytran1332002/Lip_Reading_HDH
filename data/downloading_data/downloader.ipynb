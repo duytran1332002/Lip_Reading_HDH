{
 "cells": [
  {
   "cell_type": "code",
   "execution_count": 2,
   "metadata": {},
   "outputs": [
    {
     "name": "stdout",
     "output_type": "stream",
     "text": [
      "Requirement already satisfied: pytube in c:\\users\\admin\\appdata\\local\\packages\\pythonsoftwarefoundation.python.3.9_qbz5n2kfra8p0\\localcache\\local-packages\\python39\\site-packages (12.1.2)\n",
      "Requirement already satisfied: ffmpeg in c:\\users\\admin\\appdata\\local\\packages\\pythonsoftwarefoundation.python.3.9_qbz5n2kfra8p0\\localcache\\local-packages\\python39\\site-packages (1.4)\n"
     ]
    }
   ],
   "source": [
    "!pip install pytube\n",
    "!pip install ffmpeg"
   ]
  },
  {
   "cell_type": "code",
   "execution_count": 3,
   "metadata": {},
   "outputs": [],
   "source": [
    "from pytube import YouTube, Playlist\n",
    "import os\n",
    "import re\n",
    "from tqdm import tqdm\n",
    "import ffmpeg"
   ]
  },
  {
   "cell_type": "code",
   "execution_count": null,
   "metadata": {},
   "outputs": [],
   "source": [
    "class YoutubePlaylistDownloader():\n",
    "    def __init__(self, playlist_url, resolution, dest) -> None:\n",
    "        self.playlist_url = playlist_url\n",
    "        self.resolution = resolution\n",
    "        if not os.path.exists(dest):\n",
    "            os.makedirs(dest)\n",
    "        self.dest = dest\n",
    "\n",
    "    def __call__(self) -> None:\n",
    "        '''\n",
    "            Download all video from the YouTube playlist\n",
    "        '''\n",
    "        video_urls = Playlist(self.playlist_url).video_urls\n",
    "        for video_url in tqdm(video_urls):\n",
    "            try:\n",
    "                video = YouTube(video_url)\n",
    "                print(f'\\nDownloading {video.title}')\n",
    "                date = re.search(r'(\\d{1,2})\\/(\\d{1,2})\\/(\\d{4})', video.title)\n",
    "                year = date.group(3)\n",
    "                month = date.group(2) if len(date.group(2)) > 1 else '0' + date.group(2)\n",
    "                day = date.group(1) if len(date.group(1)) > 1 else '0' + date.group(1)\n",
    "                video_name = f'{year}{month}{day}.mp4'\n",
    "                if os.path.isfile(video_name):\n",
    "                    continue\n",
    "                if self.resolution == 'high':\n",
    "                    stream = video.streams.get_highest_resolution()\n",
    "                else:\n",
    "                    stream = video.streams.get_lowest_resolution()\n",
    "                stream.download(filename=video_name,\n",
    "                                output_path=self.dest)\n",
    "                print(f'Saved as {video_name}')\n",
    "            except Exception as e:\n",
    "                print(f'Cannot download video {video_url}')\n",
    "                print(f'-> {e}')\n",
    "        print('Downloading completed!')"
   ]
  },
  {
   "cell_type": "code",
   "execution_count": 15,
   "metadata": {},
   "outputs": [],
   "source": [
    "def trim_video(videos_path, save_path, start=0, end=None) -> None:\n",
    "    '''\n",
    "        Trim a part of the video\n",
    "\n",
    "        Parameters:\n",
    "            videos_path: str\n",
    "                path to audio folder\n",
    "            save_path: str\n",
    "                path to folder that contain the result\n",
    "            start: float\n",
    "                where to begin trimming\n",
    "            end: float\n",
    "                where to end trimming\n",
    "    '''\n",
    "    assert os.path.exists(videos_path) and os.listdir(videos_path) != []\n",
    "    if not os.path.exists(save_path):\n",
    "        os.makedirs(save_path)\n",
    "    for audio in os.listdir(videos_path):\n",
    "        video_path = os.path.join(videos_path, audio)\n",
    "        dest = os.path.join(save_path, audio)\n",
    "        input_stream = ffmpeg.input(video_path)\n",
    "        pts = 'PTS-STARTPTS'\n",
    "        if end is None:\n",
    "            end = ffmpeg.probe(video_path).get('format', {}).get('duration')\n",
    "        video = input_stream.trim(start=start, end=end).setpts(pts)\n",
    "        audio = (input_stream\n",
    "                 .filter_('atrim', start=start, end=end)\n",
    "                 .filter_('asetpts', pts))\n",
    "        output = ffmpeg.output(ffmpeg.concat(\n",
    "            video, audio), dest, format='mp4')\n",
    "        output.run()\n"
   ]
  },
  {
   "cell_type": "code",
   "execution_count": null,
   "metadata": {},
   "outputs": [],
   "source": [
    "videos_path = '../data/videos'\n",
    "\n",
    "# Start downloading\n",
    "YoutubePlaylistDownloader(playlist_url='https://www.youtube.com/watch?v=cPAlAOD-Og4&list=PL_UeYNcd7KvpDfdqPILdqdeWVeaLVsjqz',\n",
    "                          resolution='high',\n",
    "                          dest=videos_path)()\n",
    "\n",
    "# Remove the first minute of the video\n",
    "trim_video(videos_path=videos_path,\n",
    "           save_path='../data/trimmed_videos',\n",
    "           start=1)\n"
   ]
  }
 ],
 "metadata": {
  "kernelspec": {
   "display_name": "Python 3",
   "language": "python",
   "name": "python3"
  },
  "language_info": {
   "codemirror_mode": {
    "name": "ipython",
    "version": 3
   },
   "file_extension": ".py",
   "mimetype": "text/x-python",
   "name": "python",
   "nbconvert_exporter": "python",
   "pygments_lexer": "ipython3",
   "version": "3.9.13"
  },
  "orig_nbformat": 4,
  "vscode": {
   "interpreter": {
    "hash": "be4d3b4822a6442cbf7fdbfd130bf27bf72d67783b10db29e0e37ba766e7b7fd"
   }
  }
 },
 "nbformat": 4,
 "nbformat_minor": 2
}
