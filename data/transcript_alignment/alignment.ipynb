{
 "cells": [
  {
   "cell_type": "code",
   "execution_count": null,
   "id": "339d83a9",
   "metadata": {},
   "outputs": [],
   "source": [
    "!pip install -r requirements.txt"
   ]
  },
  {
   "cell_type": "code",
   "execution_count": 8,
   "id": "1a40ba52",
   "metadata": {},
   "outputs": [],
   "source": [
    "import os\n",
    "from wrapper import preprocess_from_file, align, write_csv"
   ]
  },
  {
   "cell_type": "code",
   "execution_count": 9,
   "id": "267f8035",
   "metadata": {},
   "outputs": [],
   "source": [
    "def align_transcript(audios_path, transcripts_path, save_path) -> None:\n",
    "    '''\n",
    "        Get the beginning and ending of each word in the audio and save them\n",
    "        as an csv file.\n",
    "        \n",
    "        Parameters:\n",
    "            audios_path: str\n",
    "                path to audio folder\n",
    "            transcripts_path: str\n",
    "                path to transcript folder\n",
    "            save_path: str\n",
    "                path to folder that contain the result\n",
    "    '''\n",
    "    assert os.path.exists(audios_path) and os.listdir(audios_path) != []\n",
    "    assert os.path.exists(transcripts_path) and os.listdir(\n",
    "        transcripts_path) != []\n",
    "    if not os.path.exists(save_path):\n",
    "        os.makedirs(save_path)\n",
    "    method = 'MTL_BDR'\n",
    "    for audio_file in os.listdir(audios_path):\n",
    "        audio_path = os.path.join(audios_path, audio_file)\n",
    "        transcript_path = os.path.join(transcripts_path, audio_file.replace('.wav', '.txt'))\n",
    "        dest = os.path.join(save_path, audio_file.replace('.wav', '.csv'))\n",
    "        audio, words, lyrics_p, idx_word_p, idx_line_p = preprocess_from_file(audio_path,\n",
    "                                                                              transcript_path,\n",
    "                                                                              word_file=None)\n",
    "        word_align, words = align(audio, words, lyrics_p, idx_word_p, idx_line_p,\n",
    "                                  method=method,\n",
    "                                  cuda=False)\n",
    "        write_csv(dest, word_align, words)"
   ]
  },
  {
   "cell_type": "code",
   "execution_count": null,
   "id": "19939e20",
   "metadata": {},
   "outputs": [],
   "source": [
    "# Start alignment\n",
    "align_transcript(audios_path=r'../data/audios',\n",
    "                 transcripts_path=r'../data/transcripts',\n",
    "                 save_path=r'../data/word_aligned_transcripts')"
   ]
  }
 ],
 "metadata": {
  "kernelspec": {
   "display_name": "Python 3",
   "language": "python",
   "name": "python3"
  },
  "language_info": {
   "codemirror_mode": {
    "name": "ipython",
    "version": 3
   },
   "file_extension": ".py",
   "mimetype": "text/x-python",
   "name": "python",
   "nbconvert_exporter": "python",
   "pygments_lexer": "ipython3",
   "version": "3.9.13 (tags/v3.9.13:6de2ca5, May 17 2022, 16:36:42) [MSC v.1929 64 bit (AMD64)]"
  },
  "vscode": {
   "interpreter": {
    "hash": "be4d3b4822a6442cbf7fdbfd130bf27bf72d67783b10db29e0e37ba766e7b7fd"
   }
  }
 },
 "nbformat": 4,
 "nbformat_minor": 5
}
