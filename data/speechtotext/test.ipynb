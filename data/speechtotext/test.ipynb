{
 "cells": [
  {
   "cell_type": "code",
   "execution_count": 1,
   "metadata": {},
   "outputs": [
    {
     "name": "stderr",
     "output_type": "stream",
     "text": [
      "/home/duy1332002/miniconda3/envs/torch/lib/python3.9/site-packages/tqdm/auto.py:22: TqdmWarning: IProgress not found. Please update jupyter and ipywidgets. See https://ipywidgets.readthedocs.io/en/stable/user_install.html\n",
      "  from .autonotebook import tqdm as notebook_tqdm\n",
      "Downloading: 100%|██████████| 215/215 [00:00<00:00, 327kB/s]\n",
      "Downloading: 100%|██████████| 1.11k/1.11k [00:00<00:00, 2.26MB/s]\n",
      "Downloading: 100%|██████████| 181/181 [00:00<00:00, 367kB/s]\n",
      "Downloading: 100%|██████████| 85.0/85.0 [00:00<00:00, 195kB/s]\n",
      "Special tokens have been added in the vocabulary, make sure the associated word embeddings are fine-tuned or trained.\n",
      "Downloading: 100%|██████████| 1.65k/1.65k [00:00<00:00, 2.13MB/s]\n",
      "Downloading: 100%|██████████| 378M/378M [00:33<00:00, 11.2MB/s] \n",
      "Downloading: 100%|██████████| 904M/904M [01:19<00:00, 11.3MB/s] \n"
     ]
    }
   ],
   "source": [
    "from speechtotext import SpeechToText\n",
    "stt = SpeechToText()\n"
   ]
  },
  {
   "cell_type": "code",
   "execution_count": 3,
   "metadata": {},
   "outputs": [
    {
     "name": "stdout",
     "output_type": "stream",
     "text": [
      " xin chào những quý vị khán giả đầu tiên đang xem bản tin lai sim của dự thời tiết vê tê vê trong buổi tối ngày hôm nay các quý vị khán giả chúng ta đã vào xem rồi thì hãy vào xem lai chim và tích cực đặt câu hỏi cho khánh linh cũng như là tương tác bằng cách thả lai thả tim hoặc là bình luận bằng cách là chào khánh linh hoặc là chào em xi nhá quý vị hãy cứ tích cực đặt câu hỏi khi mà vào xem lai chuyên của khánh linh sau khi giải đáp tình hình thời tiết ở khu vực trên cả nước xong thì khánh linh sẽ giải đáp từng câu hỏi của các quý vị khán giả rồi chào khán giả nguyễn minh thành chào khán giả văn minh thu quý vị khán giả nào chúng ta đã vào xem lai trym của khánh linh rồi thì hãy cứ tiếp tục đặt câu hỏi cho khánh linh nhá sau khi mà khánh linh cập nhật tình hình thời tiết cụ thể ở ba miền trên cả nước xong thì khánh linh sẽ bắt đầu giải đáp từng câu hỏi ờ mặt tình hình thời tiết ở các khu vực mà quý vị chúng ta đang sinh sống tích cực đặt câu hỏi cho khánh linh cũng như tương tác bằng cách thả lai thả tim nhá chào em xi rồi chào khán giả minh vương rồi khánh linh đã thấy rất nhiều câu hỏi các quý vị khán giả rồi rồi à đa số khánh linh đã thấy những câu hỏi về tình hình mưa ở miền trung của các quý vị khán giả đừng rời lai xui nhất sau khi khánh linh cập nhật tình hình thời tiết chung của ba miền trên cả nước xong thì khánh linh sẽ giải đáp từng câu hỏi cho các quý vị khán giả rồi khi mà đông đông mát xem a một chút xíu thì khánh linh sẽ bắt đầu cập nhật tình hình thời tiết ở ba miền trên cả nước rồi chào hai trang vị khán giả đầu tiên đang xem lai chim rồi khán giả có tích cực thả lai thả tim cho khánh linh nhá lai sim ngày hôm nay thì khánh linh sẽ mang đến rất là nhiều các thông tin về tình hình mưa ở khu vực miền trung cũng như là tây nguyên ừ chào khán giả minh phương xin chào khán giả thúy nguyễn chào khán giả vũ anh huy rồi rồi bây giờ khánh linh sẽ bắt đầu cập nhật tình hình thời tiết cụ thể ở ba miền trên cả nước để cho quý vị chúng ta nắm nhá đầu tiên là đối với các quý vị khán giả chúng ta sinh sống ở vực miền trung cũng như là tây nguyên thì từ ngày mai này cho đến ngày thứ bảy của tuần sau sẽ xuất hiện một đợt mưa lớn trái mùa quý vị nhá khánh linh xin nhắc lại là từ ngày mai cho đến thứ bảy của tuần sau thì ở miền trung cũng như tây nguyên sẽ xuất hiện một đợt mưa lớn trái mùa này trong đó trọng tâm mưa lớn là từ thừa thiên huế cho đến ninh thuận và có điểm mưa trên bốn trăm mi li mét cả đợt đấy ạ mưa lớn dồn dập như vậy thì sẽ rất dễ gây ra các hiện tượng ngập úng này ở các vùng trũng thấp ven sông hay là khu đô thị cũng như với các quý vị khán giả và chúng ta sinh sống ở khu vực sườn đồi núi thì sẽ rất dễ xảy ra các hiện tượng lũ quét và sạt lở đất ở khu vực quảng trị bình thuận và phía đông của khu vực tây nguyên thì ngày mai sẽ có mưa từ năm mươi đến một trăm năm mươi mi li mét quý vị nhá và có nơi là trên hai trăm mi li mét cũng cần đề phòng với các hiện tượng thời tiết nguy hiểm như là lũ quét và sạt lở đất ạ rồi quý vị khán giả nào chúng ta đã vào xem lai rồi thì cứ hãy tích cực đặc câu hỏi cho khánh linh nhá và tương tác bằng cách thả lai thả tim hoặc là cầm men để tăng tương tác cho buổi tối lai trim ngày hôm nay khi mà nhiều mắt xem và khánh linh sẽ có rất là nhiều năng lượng để lai sim mang đến những thông tin bổ ích cho các quý vị khán giả chào khán giả ca thin rồi tiếp theo là tình hình thời tiết ở khu vực nam bộ nam bộ thì ngày mai sẽ xuất hiện mưa trái mùa về chiều vào buổi chiều quý vị nhá mưa sẽ tập trung ở ven biển phía đông này cũng cần đề phòng với mưa to cục bộ kèm theo dông lấp và sấm xết ạ trước khi chuyển mưa thì sáng đến trưa mai trời sẽ hửng nắng ạ nhiệt độ cao nhất tại các thành phố dao động từ hai tám đến ba mươi hai độ khánh linh xin nhắc lại ngày mai ở nam bộ về chiều tối sẽ có những cơn mưa trái mùa xuất hiện này ờ còn buổi sáng cũng như là buổi trưa chiều thì vẫn sẽ có những khoảng hửng nắng vì thế buổi sáng sẽ là khoảng thời gian thích hợp nhất để cho các quý vị khán giả chúng ta lên các kế hoạch vui chơi và hoạt động ngoài trời ạ còn buổi chiều là chú ý sẽ có những cơn mưa dông trái mùa nhưng mà những cơn mưa này nhỏ thôi sẽ không gây bất tiện nhiều cho các quý vị khán giả đâu chúng ta chỉ cần chú ý là mang theo ô hoặc là mang theo áo mưa để khi đi làm về thì chúng ta có những vật dụng che chắn để bảo đảm bảo cho sức khỏe nhá và ngày mai nhiệt độ cao nhất các thành phố ở nam bộ sẽ dao động trong khoảng từ hai mươi tám đến ba mươi hai độ và tiếp theo là với các quý vị khán giả ở khu vực bắc bộ bắc bộ thì ngày mai trời vẫn có sương mù vào lúc sáng sớm quý vị ạ về trưa chiều thì toàn miền trời sẽ nhiều mây này và đôi lúc sẽ hửng nắng yếu nhiệt độ tăng lên ngưỡng ấm áp này tại thủ đô hà nội và các thành phố cao nhất trong khoảng từ mười chín đến hai mươi hai độ chỉ vài nơi như là lạng sơn là mười bảy độ ạ rồi bây giờ khánh linh sẽ bắt đầu cập nhật tình hình thời tiết ở khu vực mà quý vị chúng ta đặt câu hỏi nhá ở khu vực bắc ninh bắc ninh thì ngày mai trời vẫn sẽ tạnh ráo ạ vào buổi sáng có lúc có sương mù nhẹ ạ đa số là các tỉnh thành miền bắc ngày mai trời sẽ hoàn toàn tạnh giáo rất thích hợp cho các kế hoạch ngoài trời của quý vị và trời sẽ không mưa đâu ạ nhìn chung thì thời tiết ngày mai ở khu vực phía bắc thì khá là thuận lợi và đáng chú ý là ở các quý vị khán giả chúng ta ở miền trung thì ngày mai sẽ xuất hiện một đợt mưa lớn trái mùa quý vị nhá mưa thì sẽ rất dễ đi kèm với các hiện tượng thời tiết nguy hiểm vì thế khi mà khánh linh mang đến những thông tin này thì quý vị khán giả chúng ta hãy lên các kế hoạch phòng tránh này cũng như là theo dõi và cập nhật thường xuyên các thông tin về thời tiết để có thể sơ tán kịp thời đảm bảo an toàn cho chúng ta cũng như là gia đình của chúng ta quý vị nhá bắc ninh tuyên quang thì ngày mai không mưa thời tiết tết nguyên đán dự báo thế nào chị à thời tiết do tết nguyên đán án thì hiện tại vẫn chưa có thông tin cụ thể bạn chờ thêm trong các lai sin và các bản tin tiếp theo nhá mai huế có lạnh hơn hôm nay không em ngày mai là miền chung sẽ xuất hiện mưa mưa trọng tâm mưa là từ thừa thiên huế cho đến ninh thuận vì thế ngày mai ở thừa thiên huế sẽ lạnh hơn ạ bởi vì có mưa nên sẽ càng lạnh hơn và khán giả cũng cần phải đề phòng với các hiện tượng thời tiết nguy hiểm nữa ạ phú thọ ngày mai hai bao nhiêu độ phú thọ ngày mai rồi khán giả chờ khánh linh một tí ngày mai là cao nhất trong ngày là hai mươi độ còn thấp nhất là mười sáu độ trời vẫn khá là lạnh ạ vì thế quý vị chúng ta vẫn phải mặc ấm khi mà đi ra ngoài đường quý vị nhá miền trung khi nào hết mưa miền trung miền trung mưa khả năng thứ mai cho đến thứ bảy của tuần này còn từ thứ còn từ chủ nhật thì khả năng thì trời mới có thể giảm mưa thôi cũng chưa có cái thông tin chi tiết cụ thể miền trung bao giờ hết mưa bạn nhá bạn xem thêm các bản tin cũng như xem thêm các bản tin lai chim trong các ngày tiếp theo để cập nhật tình hình thời tiết ở miền trung ạ và bạn có thể xem các bản tin thời tiết du lịch trong bảy ngày để có thể cập nhật một cách chính xác nhất về thời tình hình thời tiết ở khu vực miền trung nhá thủ đô hà nội vị thủ đô hà nội thì ngày mai sáng sớm có sương mù bạn nhớ chưa chiều thời nhiều về chưa thì về thưa chiều thì toàn miền trời nhiều mây này và đôi lúc có hửng nắng yếu nhiệt độ cao nhất sẽ từ mười chín đến hai mươi hai độ ạ nha trang thì ngày mai có mưa vừa mưa to ạ nhiệt độ cao nhất trong ngày là hai mươi lăm độ và thấp nhất là hai mươi ba độ nhìn chung thì các tỉnh thành ở miền trung từ vinh cho đến từ vinh cho đến phan thiết thì ngày mai có lúc mưa vừa mưa to có nơi kèm theo dông nữa ạ lâm đồng lâm đồng thì ngày mai đêm có mưa rào và dông ngày có mưa vừa mưa to và dông ạ nhiệt độ cao nhất trong ngày là hai mươi mốt độ và thấp nhất là mười bảy độ quý vị khán giả là chúng ta vào xem lai chim thì cứ tích gặp đặt câu hỏi cho khánh linh nhá yên bái vài ngày tới dự báo vẫn chưa có mưa đâu ạ yên bái thì ngày mai trời vẫn không mưa bạn nhát nhiệt độ cao nhất trong ngày là mười chín và thấp nhất là mười sáu độ ạ bình thuận ngày mai có mưa bạn nhá mưa to mưa vừa mưa to tiếp theo là ở khán giả hỏi lai châu lai châu ở mộc châu yên bái hòa bình mai châu con bằng bắc cạn hà giang đồng văn hay lũng cú các tỉnh thành miền bắc thì ngày mai trời không mưa chỉ chú ý là nhiệt độ sẽ vẫn ở mức thấp mức lạnh á vì thế quý vị chúng ta hãy nhớ mà ấm khi mà đi ra ngoài được đà nẵng ngày mai có mưa và có lúc mưa rào ạ nhiệt độ cao nhất trong ngày là hai mươi ba độ và thấp nhất là hai mươi độ vì thế ngày mai ở đà nẵng sẽ không mấy thích hợp cho các kế hoạch mà quý vị chúng ta đi ra ngoài đồng chơi đâu ạ mưa bất cứ thời điểm nào trong ngày quý vị nhá rồi đã bao lần hỏi rồi không thấy trả lời ngày mai tuy nhân có mưa không bây giờ trả lời bạn nguyễn thái đây ngày mai quy nhân có mưa mưa vừa và dông bạn nhá nhiệt độ cao nhất trong ngày là hai mươi lăm độ và thấp nhất là hai mươi ba độ bây giờ mới đến câu hỏi của bạn nguyễn thái vì thấy trả lời bạn hơi chậm một tí ở buôn man thuộc thì ngày mai có lúc có mưa rào và dông nhiệt độ cao nhất trong ngày là hai mươi mốt và thấp nhất là mười tám độ lây cu cũng vậy có lúc có mưa rào và dông cùng trung mức nhiệt với bôn ma thuột con tum thì ngày mai đêm không mưa này ngày có lúc có mưa rào và dông ạ nhiệt độ cao nhất trong ngày là hai mươi ba thấp nhất là hai mươi độ rồi còn quý vị khán giả nào chúng ta muốn đặt câu hỏi cho khánh linh nữa không ạ nhìn chung thì ngày mai nay những quý vị khán giả ở khu vực miền trung thì thời tiết sẽ không mấy tích thực và không mấy ủng hộ cho các công việc ngoài sử của quý vị đâu bởi vì ngày mai đã có những cơn mưa trái mùa xuất hiện rồi và thậm chí có nơi mưa to đấy quý vị ạ đề phòng với nguy cơ xảy ra ngập úng ở các vùng trũng thấp này cũng như các hiện tượng lũ quét và sạt lở đất ở khu vực vùng núi vì thế quý vị chúng ta cần phải lên các biện pháp để đảm bảo an toàn cho chính mình và gia đình của chúng ta thời tiết thuận lợi nhất là ở khu vực miền bắc ạ ngày mai thì trời vẫn tạnh ráo sáng sớm thì có sương mù còn ở nam bộ thì về chiều sẽ có những cơn mưa trái mùa dường như thì những cơn mưa trái mùa này chỉ xuất hiện về chiều tối mà thôi buổi sáng thì trời buổi sáng cũng như buổi trưa thì trời vẫn hửng nắng ạ rồi khánh linh thấy hình như cũng không còn câu hỏi của các quý vị khán giả nào nữa và nế nếu như mà quý vị khán giả nào chúng ta muốn xem lại lai trim thì sau khi khánh linh kết thúc đấy lai chim quý vị có thể tua lại để xem các cái thông tin thời tiết mà khánh linh vừa chia sẻ nhá còn bây giờ khánh linh xin được chào mọi người chúc mọi người sẽ có một buổi tối rất là nhiều niềm vui và hạnh phúc bên gia đình của chúng ta xin chào\n"
     ]
    }
   ],
   "source": [
    "stt.print_result('/home/duy1332002/Desktop/Lip_Reading_THDH/data/speechtotext/t5.wav')"
   ]
  },
  {
   "cell_type": "code",
   "execution_count": 4,
   "metadata": {},
   "outputs": [
    {
     "name": "stdout",
     "output_type": "stream",
     "text": [
      "Save result to file:  /home/duy1332002/Desktop/Lip_Reading_THDH/data/speechtotext/test1.txt\n"
     ]
    }
   ],
   "source": [
    "stt.save_result_to_file('/home/duy1332002/Desktop/Lip_Reading_THDH/data/speechtotext/t5.wav', '/home/duy1332002/Desktop/Lip_Reading_THDH/data/speechtotext/test1.txt')"
   ]
  },
  {
   "cell_type": "code",
   "execution_count": null,
   "metadata": {},
   "outputs": [],
   "source": []
  }
 ],
 "metadata": {
  "kernelspec": {
   "display_name": "torch",
   "language": "python",
   "name": "python3"
  },
  "language_info": {
   "codemirror_mode": {
    "name": "ipython",
    "version": 3
   },
   "file_extension": ".py",
   "mimetype": "text/x-python",
   "name": "python",
   "nbconvert_exporter": "python",
   "pygments_lexer": "ipython3",
   "version": "3.9.15"
  },
  "orig_nbformat": 4,
  "vscode": {
   "interpreter": {
    "hash": "ad622261ae95de60e6c96049fca3491b86b06fbc6d42f9ff005be079e3e9e205"
   }
  }
 },
 "nbformat": 4,
 "nbformat_minor": 2
}
