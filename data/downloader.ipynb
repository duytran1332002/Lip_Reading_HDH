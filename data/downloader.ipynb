{
 "cells": [
  {
   "cell_type": "code",
   "execution_count": 2,
   "metadata": {},
   "outputs": [
    {
     "name": "stdout",
     "output_type": "stream",
     "text": [
      "Requirement already satisfied: pytube in c:\\users\\admin\\appdata\\local\\packages\\pythonsoftwarefoundation.python.3.9_qbz5n2kfra8p0\\localcache\\local-packages\\python39\\site-packages (12.1.2)\n",
      "Requirement already satisfied: ffmpeg in c:\\users\\admin\\appdata\\local\\packages\\pythonsoftwarefoundation.python.3.9_qbz5n2kfra8p0\\localcache\\local-packages\\python39\\site-packages (1.4)\n"
     ]
    }
   ],
   "source": [
    "# Install requirements\n",
    "!pip install -r requirements.txt"
   ]
  },
  {
   "attachments": {},
   "cell_type": "markdown",
   "metadata": {},
   "source": [
    "# Download videos"
   ]
  },
  {
   "cell_type": "code",
   "execution_count": 4,
   "metadata": {},
   "outputs": [],
   "source": [
    "from pytube import YouTube, Playlist\n",
    "import os\n",
    "import re\n",
    "from tqdm import tqdm\n",
    "\n",
    "\n",
    "class YoutubePlaylistDownloader():\n",
    "    def __init__(self, playlist_url, resolution, dest) -> None:\n",
    "        '''\n",
    "            Initiate values\n",
    "\n",
    "            Parameters:\n",
    "                playlist_url: str\n",
    "                    Url of the playlist\n",
    "                resolution: str\n",
    "                    Choose between 'high' and 'low'\n",
    "        '''\n",
    "        self.playlist_url = playlist_url\n",
    "        self.resolution = resolution\n",
    "        if not os.path.exists(dest):\n",
    "            os.makedirs(dest)\n",
    "        self.dest = dest\n",
    "\n",
    "    def __call__(self) -> None:\n",
    "        '''\n",
    "            Download all video from the YouTube playlist\n",
    "        '''\n",
    "        video_urls = Playlist(self.playlist_url).video_urls\n",
    "        for video_url in tqdm(video_urls):\n",
    "            try:\n",
    "                video = YouTube(video_url)\n",
    "                print(f'\\nDownloading {video.title}')\n",
    "                date = re.search(r'(\\d{1,2})\\/(\\d{1,2})\\/(\\d{4})', video.title)\n",
    "                year = date.group(3)\n",
    "                month = date.group(2) if len(\n",
    "                    date.group(2)) > 1 else '0' + date.group(2)\n",
    "                day = date.group(1) if len(\n",
    "                    date.group(1)) > 1 else '0' + date.group(1)\n",
    "                video_name = f'{year}{month}{day}.mp4'\n",
    "                if os.path.isfile(video_name):\n",
    "                    continue\n",
    "                if self.resolution == 'high':\n",
    "                    stream = video.streams.get_highest_resolution()\n",
    "                elif self.resolution == 'low':\n",
    "                    stream = video.streams.get_lowest_resolution()\n",
    "                stream.download(filename=video_name,\n",
    "                                output_path=self.dest)\n",
    "                print(f'Saved as {video_name}')\n",
    "            except Exception as e:\n",
    "                print(f'Cannot download video {video_url}')\n",
    "                print(f'-> {e}')\n",
    "        print('Downloading completed!')\n",
    "\n",
    "\n",
    "playlist_url = 'https://www.youtube.com/watch?v=cPAlAOD-Og4&list=PL_UeYNcd7KvpDfdqPILdqdeWVeaLVsjqz'\n",
    "resolution = 'high'\n",
    "videos_path = r'..\\..\\..\\data\\raw_videos'\n",
    "# Download videos\n",
    "YoutubePlaylistDownloader(playlist_url=playlist_url,\n",
    "                          resolution=resolution,\n",
    "                          dest=videos_path)()"
   ]
  },
  {
   "attachments": {},
   "cell_type": "markdown",
   "metadata": {},
   "source": [
    "# Trim videos"
   ]
  },
  {
   "cell_type": "code",
   "execution_count": 2,
   "metadata": {},
   "outputs": [
    {
     "ename": "Error",
     "evalue": "ffmpeg error (see stderr output for detail)",
     "output_type": "error",
     "traceback": [
      "\u001b[1;31m---------------------------------------------------------------------------\u001b[0m",
      "\u001b[1;31mError\u001b[0m                                     Traceback (most recent call last)",
      "Cell \u001b[1;32mIn [2], line 42\u001b[0m\n\u001b[0;32m     40\u001b[0m trimmed_videos_path \u001b[39m=\u001b[39m \u001b[39mr\u001b[39m\u001b[39m'\u001b[39m\u001b[39m..\u001b[39m\u001b[39m\\\u001b[39m\u001b[39m..\u001b[39m\u001b[39m\\\u001b[39m\u001b[39m..\u001b[39m\u001b[39m\\\u001b[39m\u001b[39mdata\u001b[39m\u001b[39m\\\u001b[39m\u001b[39mvideos\u001b[39m\u001b[39m'\u001b[39m\n\u001b[0;32m     41\u001b[0m \u001b[39m# Remove the first minute of the video\u001b[39;00m\n\u001b[1;32m---> 42\u001b[0m trim_video(videos_path\u001b[39m=\u001b[39;49mvideos_path,\n\u001b[0;32m     43\u001b[0m            save_path\u001b[39m=\u001b[39;49mtrimmed_videos_path,\n\u001b[0;32m     44\u001b[0m            start\u001b[39m=\u001b[39;49m\u001b[39m1\u001b[39;49m)\n",
      "Cell \u001b[1;32mIn [2], line 36\u001b[0m, in \u001b[0;36mtrim_video\u001b[1;34m(videos_path, save_path, start, end)\u001b[0m\n\u001b[0;32m     31\u001b[0m audio \u001b[39m=\u001b[39m (input_stream\n\u001b[0;32m     32\u001b[0m          \u001b[39m.\u001b[39mfilter_(\u001b[39m'\u001b[39m\u001b[39matrim\u001b[39m\u001b[39m'\u001b[39m, start\u001b[39m=\u001b[39mstart, end\u001b[39m=\u001b[39mend)\n\u001b[0;32m     33\u001b[0m          \u001b[39m.\u001b[39mfilter_(\u001b[39m'\u001b[39m\u001b[39masetpts\u001b[39m\u001b[39m'\u001b[39m, pts))\n\u001b[0;32m     34\u001b[0m output \u001b[39m=\u001b[39m ffmpeg\u001b[39m.\u001b[39moutput(ffmpeg\u001b[39m.\u001b[39mconcat(\n\u001b[0;32m     35\u001b[0m     video, audio), dest, \u001b[39mformat\u001b[39m\u001b[39m=\u001b[39m\u001b[39m'\u001b[39m\u001b[39mmp4\u001b[39m\u001b[39m'\u001b[39m)\n\u001b[1;32m---> 36\u001b[0m output\u001b[39m.\u001b[39;49mrun()\n",
      "File \u001b[1;32m~\\AppData\\Local\\Packages\\PythonSoftwareFoundation.Python.3.9_qbz5n2kfra8p0\\LocalCache\\local-packages\\Python39\\site-packages\\ffmpeg\\_run.py:325\u001b[0m, in \u001b[0;36mrun\u001b[1;34m(stream_spec, cmd, capture_stdout, capture_stderr, input, quiet, overwrite_output)\u001b[0m\n\u001b[0;32m    323\u001b[0m retcode \u001b[39m=\u001b[39m process\u001b[39m.\u001b[39mpoll()\n\u001b[0;32m    324\u001b[0m \u001b[39mif\u001b[39;00m retcode:\n\u001b[1;32m--> 325\u001b[0m     \u001b[39mraise\u001b[39;00m Error(\u001b[39m'\u001b[39m\u001b[39mffmpeg\u001b[39m\u001b[39m'\u001b[39m, out, err)\n\u001b[0;32m    326\u001b[0m \u001b[39mreturn\u001b[39;00m out, err\n",
      "\u001b[1;31mError\u001b[0m: ffmpeg error (see stderr output for detail)"
     ]
    }
   ],
   "source": [
    "import ffmpeg\n",
    "import os\n",
    "\n",
    "\n",
    "def trim_video(videos_path, save_path, start=0, end=None) -> None:\n",
    "    '''\n",
    "        Trim a part of the video\n",
    "\n",
    "        Parameters:\n",
    "            videos_path: str\n",
    "                path to audio folder\n",
    "            save_path: str\n",
    "                path to folder that contain the result\n",
    "            start: float\n",
    "                where to begin trimming\n",
    "            end: float\n",
    "                where to end trimming\n",
    "    '''\n",
    "    assert os.path.exists(videos_path) and os.listdir(videos_path) != []\n",
    "    if not os.path.exists(save_path):\n",
    "        os.makedirs(save_path)\n",
    "    for audio in os.listdir(videos_path):\n",
    "        video_path = os.path.join(videos_path, audio)\n",
    "        dest = os.path.join(save_path, audio)\n",
    "        input_stream = ffmpeg.input(video_path)\n",
    "        pts = 'PTS-STARTPTS'\n",
    "        if end is None:\n",
    "            end = ffmpeg.probe(video_path).get('format', {}).get(\n",
    "                'duration')    # Get video's length\n",
    "        video = input_stream.trim(start=start, end=end).setpts(pts)\n",
    "        audio = (input_stream\n",
    "                 .filter_('atrim', start=start, end=end)\n",
    "                 .filter_('asetpts', pts))\n",
    "        output = ffmpeg.output(ffmpeg.concat(\n",
    "            video, audio), dest, format='mp4')\n",
    "        output.run()\n",
    "\n",
    "\n",
    "videos_path = r'..\\..\\..\\data\\raw_videos'\n",
    "trimmed_videos_path = r'..\\..\\..\\data\\videos'\n",
    "# Remove the first minute of the video\n",
    "trim_video(videos_path=videos_path,\n",
    "           save_path=trimmed_videos_path,\n",
    "           start=1)"
   ]
  },
  {
   "attachments": {},
   "cell_type": "markdown",
   "metadata": {},
   "source": [
    "# Extract audio"
   ]
  },
  {
   "cell_type": "code",
   "execution_count": 15,
   "metadata": {},
   "outputs": [],
   "source": [
    "import ffmpeg\n",
    "import os\n",
    "\n",
    "\n",
    "def extract_audio(videos_path, audios_path) -> None:\n",
    "    '''\n",
    "        Extract audio from video\n",
    "\n",
    "        Parameters:\n",
    "            videos_path: str\n",
    "                path to video folder\n",
    "            audios_path: str\n",
    "                path to folder that contain audios\n",
    "    '''\n",
    "    assert os.path.exists(videos_path) and os.listdir(videos_path) != []\n",
    "    if not os.path.exists(audios_path):\n",
    "        os.makedirs(audios_path)\n",
    "    for video in os.listdir(videos_path):\n",
    "        video_path = os.path.join(videos_path, video)\n",
    "        audio_path = os.path.join(audios_path, video.replace('.mp4', '.wav'))\n",
    "        input_stream = ffmpeg.input(video_path)\n",
    "        pts = 'PTS-STARTPTS'\n",
    "        audio = input_stream.filter_('asetpts', pts)\n",
    "        output = ffmpeg.output(audio, audio_path, format='wav')\n",
    "        output.run()\n",
    "\n",
    "\n",
    "videos_path = r'..\\..\\..\\data\\videos'\n",
    "audios_path = r'..\\..\\..\\data\\audios'\n",
    "# Extract visual and audio\n",
    "extract_audio(videos_path=videos_path,\n",
    "              audios_path=audios_path)"
   ]
  }
 ],
 "metadata": {
  "kernelspec": {
   "display_name": "Python 3",
   "language": "python",
   "name": "python3"
  },
  "language_info": {
   "codemirror_mode": {
    "name": "ipython",
    "version": 3
   },
   "file_extension": ".py",
   "mimetype": "text/x-python",
   "name": "python",
   "nbconvert_exporter": "python",
   "pygments_lexer": "ipython3",
   "version": "3.9.13 (tags/v3.9.13:6de2ca5, May 17 2022, 16:36:42) [MSC v.1929 64 bit (AMD64)]"
  },
  "orig_nbformat": 4,
  "vscode": {
   "interpreter": {
    "hash": "be4d3b4822a6442cbf7fdbfd130bf27bf72d67783b10db29e0e37ba766e7b7fd"
   }
  }
 },
 "nbformat": 4,
 "nbformat_minor": 2
}
