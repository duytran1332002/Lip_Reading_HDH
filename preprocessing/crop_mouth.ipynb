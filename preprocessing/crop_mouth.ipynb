{
 "cells": [
  {
   "cell_type": "code",
   "execution_count": 1,
   "metadata": {},
   "outputs": [],
   "source": [
    "from preprocessing import Preprocessor"
   ]
  },
  {
   "cell_type": "code",
   "execution_count": 2,
   "metadata": {},
   "outputs": [],
   "source": [
    "Preprocessor = Preprocessor()"
   ]
  },
  {
   "cell_type": "code",
   "execution_count": 8,
   "metadata": {},
   "outputs": [
    {
     "name": "stdout",
     "output_type": "stream",
     "text": [
      "Video name: ảnh_0001.mp4, frame width: 406, frame height: 720, frame rate: 30.0, frame count: 6\n",
      "Took 9.15ms (detect: 0.00ms, crop: 0.63ms, track: 7.72ms, 3D points: 0.78ms)\n",
      "Face 0 - Frame 0 saved successfully\n",
      "Took 8.37ms (detect: 0.00ms, crop: 0.63ms, track: 6.98ms, 3D points: 0.75ms)\n",
      "Took 9.40ms (detect: 0.00ms, crop: 0.39ms, track: 8.22ms, 3D points: 0.76ms)\n",
      "Face 0 - Frame 1 saved successfully\n",
      "Took 9.39ms (detect: 0.00ms, crop: 0.60ms, track: 8.06ms, 3D points: 0.72ms)\n",
      "Took 11.05ms (detect: 0.00ms, crop: 0.46ms, track: 9.58ms, 3D points: 0.97ms)\n",
      "Face 0 - Frame 2 saved successfully\n",
      "Took 10.41ms (detect: 0.00ms, crop: 0.43ms, track: 9.08ms, 3D points: 0.89ms)\n",
      "Took 9.01ms (detect: 0.00ms, crop: 0.46ms, track: 7.77ms, 3D points: 0.75ms)\n",
      "Face 0 - Frame 3 saved successfully\n",
      "Took 8.16ms (detect: 0.00ms, crop: 0.59ms, track: 6.82ms, 3D points: 0.72ms)\n",
      "Took 8.51ms (detect: 0.00ms, crop: 0.59ms, track: 7.15ms, 3D points: 0.76ms)\n",
      "Face 0 - Frame 4 saved successfully\n",
      "Took 8.38ms (detect: 0.00ms, crop: 0.58ms, track: 7.06ms, 3D points: 0.73ms)\n",
      "Took 8.13ms (detect: 0.00ms, crop: 0.38ms, track: 6.98ms, 3D points: 0.74ms)\n",
      "Face 0 - Frame 5 saved successfully\n",
      "Took 7.90ms (detect: 0.00ms, crop: 0.35ms, track: 6.80ms, 3D points: 0.74ms)\n",
      "Took 8.11ms (detect: 0.00ms, crop: 0.38ms, track: 6.96ms, 3D points: 0.74ms)\n",
      "Face 0 - Frame 6 saved successfully\n",
      "Took 8.55ms (detect: 0.00ms, crop: 0.36ms, track: 7.43ms, 3D points: 0.74ms)\n",
      "Took 8.98ms (detect: 0.00ms, crop: 0.63ms, track: 7.54ms, 3D points: 0.79ms)\n",
      "Face 0 - Frame 7 saved successfully\n",
      "Took 8.89ms (detect: 0.00ms, crop: 0.60ms, track: 7.53ms, 3D points: 0.74ms)\n",
      "Took 8.78ms (detect: 0.00ms, crop: 0.40ms, track: 7.60ms, 3D points: 0.75ms)\n",
      "Face 0 - Frame 8 saved successfully\n",
      "Took 8.75ms (detect: 0.00ms, crop: 0.61ms, track: 7.31ms, 3D points: 0.80ms)\n",
      "Took 9.27ms (detect: 0.00ms, crop: 0.48ms, track: 8.00ms, 3D points: 0.77ms)\n",
      "Face 0 - Frame 9 saved successfully\n",
      "Took 8.73ms (detect: 0.00ms, crop: 0.35ms, track: 7.59ms, 3D points: 0.77ms)\n",
      "Took 8.15ms (detect: 0.00ms, crop: 0.38ms, track: 7.00ms, 3D points: 0.75ms)\n",
      "Face 0 - Frame 10 saved successfully\n",
      "Took 8.20ms (detect: 0.00ms, crop: 0.36ms, track: 7.09ms, 3D points: 0.74ms)\n",
      "Took 8.31ms (detect: 0.00ms, crop: 0.37ms, track: 7.16ms, 3D points: 0.76ms)\n",
      "Face 0 - Frame 11 saved successfully\n",
      "Took 8.08ms (detect: 0.00ms, crop: 0.35ms, track: 6.97ms, 3D points: 0.75ms)\n",
      "Took 8.55ms (detect: 0.00ms, crop: 0.36ms, track: 7.41ms, 3D points: 0.77ms)\n",
      "Face 0 - Frame 12 saved successfully\n",
      "Took 8.23ms (detect: 0.00ms, crop: 0.39ms, track: 7.06ms, 3D points: 0.77ms)\n",
      "Took 8.43ms (detect: 0.00ms, crop: 0.39ms, track: 7.21ms, 3D points: 0.81ms)\n",
      "Face 0 - Frame 13 saved successfully\n",
      "Took 8.07ms (detect: 0.00ms, crop: 0.35ms, track: 6.94ms, 3D points: 0.77ms)\n",
      "Took 8.28ms (detect: 0.00ms, crop: 0.38ms, track: 7.13ms, 3D points: 0.76ms)\n",
      "Face 0 - Frame 14 saved successfully\n",
      "Took 7.97ms (detect: 0.00ms, crop: 0.35ms, track: 6.86ms, 3D points: 0.75ms)\n",
      "Took 8.85ms (detect: 0.00ms, crop: 0.37ms, track: 7.64ms, 3D points: 0.83ms)\n",
      "Face 0 - Frame 15 saved successfully\n",
      "Took 8.27ms (detect: 0.00ms, crop: 0.36ms, track: 7.10ms, 3D points: 0.80ms)\n",
      "Took 8.47ms (detect: 0.00ms, crop: 0.38ms, track: 7.30ms, 3D points: 0.77ms)\n",
      "Face 0 - Frame 16 saved successfully\n",
      "Took 8.78ms (detect: 0.00ms, crop: 0.36ms, track: 7.63ms, 3D points: 0.77ms)\n",
      "Took 9.22ms (detect: 0.00ms, crop: 0.57ms, track: 7.81ms, 3D points: 0.81ms)\n",
      "Face 0 - Frame 17 saved successfully\n",
      "Took 8.15ms (detect: 0.00ms, crop: 0.36ms, track: 7.01ms, 3D points: 0.76ms)\n",
      "Took 8.48ms (detect: 0.00ms, crop: 0.59ms, track: 7.09ms, 3D points: 0.77ms)\n",
      "Face 0 - Frame 18 saved successfully\n",
      "Took 7.95ms (detect: 0.00ms, crop: 0.36ms, track: 6.83ms, 3D points: 0.75ms)\n"
     ]
    }
   ],
   "source": [
    "Preprocessor.preprocess(video_path = \"/home/duy1332002/Desktop/Lip_Reading_THDH/preprocessing/test/ảnh_0001.mp4\", pos_mes = 10, mouth_crop_threshold = 0.0, \n",
    "pad = 10, save = True, dir_save = \"mouth_crop\", show = True)"
   ]
  },
  {
   "cell_type": "code",
   "execution_count": null,
   "metadata": {},
   "outputs": [],
   "source": []
  }
 ],
 "metadata": {
  "kernelspec": {
   "display_name": "torch",
   "language": "python",
   "name": "python3"
  },
  "language_info": {
   "codemirror_mode": {
    "name": "ipython",
    "version": 3
   },
   "file_extension": ".py",
   "mimetype": "text/x-python",
   "name": "python",
   "nbconvert_exporter": "python",
   "pygments_lexer": "ipython3",
   "version": "3.9.15"
  },
  "orig_nbformat": 4,
  "vscode": {
   "interpreter": {
    "hash": "ad622261ae95de60e6c96049fca3491b86b06fbc6d42f9ff005be079e3e9e205"
   }
  }
 },
 "nbformat": 4,
 "nbformat_minor": 2
}
