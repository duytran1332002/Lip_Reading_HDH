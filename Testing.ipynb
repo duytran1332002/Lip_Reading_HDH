{
 "cells": [
  {
   "cell_type": "code",
   "execution_count": 4,
   "metadata": {
    "collapsed": false,
    "pycharm": {
     "name": "#%%\n"
    }
   },
   "outputs": [
    {
     "name": "stdout",
     "output_type": "stream",
     "text": [
      "Old sampling rate: 44100\n",
      "Resampling 20230111.wav\n",
      "New sampling rate: 16000\n"
     ]
    }
   ],
   "source": [
    "import librosa\n",
    "import os\n",
    "import soundfile as sf\n",
    "\n",
    "\n",
    "def resampling(audio_name,\n",
    "               raw_audio_path,\n",
    "               audio_path,\n",
    "               target_sampling_rate=16000,\n",
    "               res_type=\"kaiser_best\") -> None:\n",
    "    '''\n",
    "        Resample audio at a desired sampling rate\n",
    "\n",
    "        Parameters:\n",
    "            target_sampling_rate: int (default=16000)\n",
    "                Desired sampling rate\n",
    "            res_type: str (default='kasier_best)\n",
    "                Resampling type\n",
    "    '''\n",
    "    speech_array, sampling_rate = sf.read(raw_audio_path)\n",
    "    print(f'Old sampling rate: {sampling_rate}')\n",
    "    if len(speech_array.shape) == 2:\n",
    "        speech_array = speech_array[..., 0]\n",
    "    if sampling_rate != target_sampling_rate:\n",
    "        print(f'Resampling {audio_name}')\n",
    "        speech_array = librosa.resample(\n",
    "            speech_array,\n",
    "            orig_sr=sampling_rate, target_sr=target_sampling_rate,\n",
    "            res_type=res_type\n",
    "        )\n",
    "    sf.write(audio_path, speech_array, samplerate=target_sampling_rate)\n",
    "\n",
    "\n",
    "audio_name = '20230111.wav'\n",
    "raw_audio_path = os.path.join(r'..\\data\\raw_audios', audio_name)\n",
    "audio_path = os.path.join(r'..\\data\\audios', audio_name)\n",
    "resampling(audio_name, raw_audio_path, audio_path)\n",
    "\n",
    "_, sampling_rate = sf.read(audio_path)\n",
    "print(f'New sampling rate: {sampling_rate}')"
   ]
  },
  {
   "cell_type": "code",
   "execution_count": 5,
   "metadata": {},
   "outputs": [
    {
     "name": "stdout",
     "output_type": "stream",
     "text": [
      "Wrong-sampled audios:\n",
      "\n"
     ]
    }
   ],
   "source": [
    "# Check sampling rate\n",
    "audios_path = r'..\\data\\audios'\n",
    "wrong_sampled = []\n",
    "for audio_name in os.listdir(audios_path):\n",
    "    audio_path = os.path.join(audios_path, audio_name)\n",
    "    _, sampling_rate = sf.read(audio_path)\n",
    "    if sampling_rate != 16000:\n",
    "        wrong_sampled.append(audio_name)\n",
    "print('Wrong-sampled audios:')\n",
    "print(*wrong_sampled, sep='\\n')"
   ]
  }
 ],
 "metadata": {
  "colab": {
   "provenance": [],
   "toc_visible": true
  },
  "kernelspec": {
   "display_name": "Python 3",
   "language": "python",
   "name": "python3"
  },
  "language_info": {
   "codemirror_mode": {
    "name": "ipython",
    "version": 3
   },
   "file_extension": ".py",
   "mimetype": "text/x-python",
   "name": "python",
   "nbconvert_exporter": "python",
   "pygments_lexer": "ipython3",
   "version": "3.9.13 (tags/v3.9.13:6de2ca5, May 17 2022, 16:36:42) [MSC v.1929 64 bit (AMD64)]"
  },
  "vscode": {
   "interpreter": {
    "hash": "231b793e72510f63263cf75731d759da8776d8c74c3ed2dbefa0f0827e58fa6e"
   }
  }
 },
 "nbformat": 4,
 "nbformat_minor": 0
}
